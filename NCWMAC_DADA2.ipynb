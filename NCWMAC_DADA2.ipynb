{
 "cells": [
  {
   "cell_type": "markdown",
   "metadata": {},
   "source": [
    "# Microbiota Sequence Processing\n",
    "## Salmo salar mucosal tissue microbiota across functional feed treatments"
   ]
  },
  {
   "cell_type": "markdown",
   "metadata": {},
   "source": [
    "#### Load Libraries"
   ]
  },
  {
   "cell_type": "code",
   "execution_count": null,
   "metadata": {},
   "outputs": [],
   "source": [
    "set.seed(123)\n",
    "library(dada2); packageVersion(\"dada2\")\n",
    "library(phyloseq); packageVersion(\"phyloseq\")\n",
    "library(ggplot2); packageVersion(\"ggplot2\")\n",
    "library(dplyr); packageVersion(\"dplyr\")"
   ]
  },
  {
   "cell_type": "markdown",
   "metadata": {},
   "source": [
    "#### Load raw fastq files"
   ]
  },
  {
   "cell_type": "code",
   "execution_count": null,
   "metadata": {},
   "outputs": [],
   "source": [
    "path <- \"splitFASTQ\" \n",
    "head(list.files(path))"
   ]
  },
  {
   "cell_type": "code",
   "execution_count": null,
   "metadata": {},
   "outputs": [],
   "source": [
    "fnFs <- sort(list.files(path, pattern=\"_R1.fastq\", full.names = TRUE))\n",
    "fnRs <- sort(list.files(path, pattern=\"_R2.fastq\", full.names = TRUE))\n",
    "sample.names <- sapply(strsplit(basename(fnFs), \"_R1.fastq\"), `[`, 1)\n",
    "head(sample.names)"
   ]
  },
  {
   "cell_type": "markdown",
   "metadata": {},
   "source": [
    "#### Plot read quality (F and R) for 4 random samples to determine trimming parameters"
   ]
  },
  {
   "cell_type": "code",
   "execution_count": null,
   "metadata": {},
   "outputs": [],
   "source": [
    "randomNums <- sample(1:230, 4, replace=FALSE)\n",
    "plotQualityProfile(fnFs[randomNums])\n",
    "plotQualityProfile(fnRs[randomNums])"
   ]
  },
  {
   "cell_type": "markdown",
   "metadata": {},
   "source": [
    "#### Run DADA2 workflow"
   ]
  },
  {
   "cell_type": "code",
   "execution_count": null,
   "metadata": {},
   "outputs": [],
   "source": [
    "filtFs <- file.path(path, \"filtered\", paste0(sample.names, \"_F_filt.fastq\"))\n",
    "filtRs <- file.path(path, \"filtered\", paste0(sample.names, \"_R_filt.fastq\"))"
   ]
  },
  {
   "cell_type": "code",
   "execution_count": null,
   "metadata": {},
   "outputs": [],
   "source": [
    "out_PE <- filterAndTrim(fnFs, filtFs, fnRs, filtRs, truncLen=c(275,215), \n",
    "                        maxN=0, maxEE=c(2,3), truncQ=3, rm.phix=TRUE,\n",
    "                        compress=TRUE, multithread=TRUE)"
   ]
  },
  {
   "cell_type": "code",
   "execution_count": null,
   "metadata": {},
   "outputs": [],
   "source": [
    "head(out_PE)# truncLen=c(275,215) maxEE=c(2,3), truncQ=3\n",
    "cat('Number of sequences after filtering:', sum(out_PE[,2]))"
   ]
  },
  {
   "cell_type": "code",
   "execution_count": null,
   "metadata": {},
   "outputs": [],
   "source": [
    "errF <- learnErrors(filtFs, multithread=TRUE)\n",
    "errR <- learnErrors(filtRs, multithread=TRUE)"
   ]
  },
  {
   "cell_type": "code",
   "execution_count": null,
   "metadata": {},
   "outputs": [],
   "source": [
    "plotErrors(errF, nominalQ=TRUE)\n",
    "plotErrors(errR, nominalQ=TRUE)"
   ]
  },
  {
   "cell_type": "code",
   "execution_count": null,
   "metadata": {},
   "outputs": [],
   "source": [
    "derepFs <- derepFastq(filtFs)\n",
    "derepRs <- derepFastq(filtRs)\n",
    "names(derepFs) <- sample.names\n",
    "names(derepRs) <- sample.names"
   ]
  },
  {
   "cell_type": "code",
   "execution_count": null,
   "metadata": {},
   "outputs": [],
   "source": [
    "dadaFs <- dada(derepFs, err=errF, multithread=TRUE)\n",
    "dadaRs <- dada(derepRs, err=errR, multithread=TRUE)"
   ]
  },
  {
   "cell_type": "code",
   "execution_count": null,
   "metadata": {},
   "outputs": [],
   "source": [
    "mergers <- mergePairs(dadaFs, derepFs, dadaRs, derepRs)\n",
    "head(mergers)"
   ]
  },
  {
   "cell_type": "code",
   "execution_count": null,
   "metadata": {},
   "outputs": [],
   "source": [
    "seqtab <- seqtab[,nchar(colnames(seqtab)) > 400] #only merged ASVs greater than 400nt retained\n",
    "dim(seqtab)[2]\n",
    "table(nchar(getSequences(seqtab)))"
   ]
  },
  {
   "cell_type": "code",
   "execution_count": null,
   "metadata": {},
   "outputs": [],
   "source": [
    "seqtab.nochim <- removeBimeraDenovo(seqtab, method=\"consensus\", multithread=TRUE, verbose=TRUE)\n",
    "sum(seqtab.nochim)/sum(seqtab)*100\n",
    "dim(seqtab.nochim)[2]"
   ]
  },
  {
   "cell_type": "code",
   "execution_count": null,
   "metadata": {
    "scrolled": true
   },
   "outputs": [],
   "source": [
    "getN <- function(x) sum(getUniques(x))\n",
    "track <- cbind(out_PE, sapply(dadaFs, getN), sapply(dadaRs, getN), sapply(mergers, getN), rowSums(seqtab.nochim))\n",
    "colnames(track) <- c(\"input\", \"filtered\", \"denoisedF\", \"denoisedR\", \"merged\", \"noChimera\")\n",
    "rownames(track) <- sample.names\n",
    "#head(track[order(track[,'merged']),], 50)"
   ]
  },
  {
   "cell_type": "markdown",
   "metadata": {},
   "source": [
    "#### Assign taxonomy against SILVA 132"
   ]
  },
  {
   "cell_type": "code",
   "execution_count": null,
   "metadata": {},
   "outputs": [],
   "source": [
    "taxa <- assignTaxonomy(seqtab.nochim, \"/Users/jakebledsoe/Desktop/RBTVacSeqs/taxaReference/silva_nr_v132_train_set.fa\", multithread=TRUE)"
   ]
  },
  {
   "cell_type": "code",
   "execution_count": null,
   "metadata": {},
   "outputs": [],
   "source": [
    "saveRDS(taxa, file= 'GenusLevelTaxa.RDS')"
   ]
  },
  {
   "cell_type": "raw",
   "metadata": {},
   "source": [
    "#taxa <- readRDS('GenusLevelTaxa.RDS')\n",
    "#head(taxa)"
   ]
  },
  {
   "cell_type": "code",
   "execution_count": null,
   "metadata": {},
   "outputs": [],
   "source": [
    "taxa <- addSpecies(taxa, \"/Users/jakebledsoe/Desktop/RBTVacSeqs/taxaReference/silva_species_assignment_v132.fa\")\n",
    "saveRDS(taxa, file= 'SpeciesLevelTaxa.RDS')"
   ]
  },
  {
   "cell_type": "code",
   "execution_count": null,
   "metadata": {},
   "outputs": [],
   "source": [
    "taxa <- readRDS('RDS_Data/SpeciesLevelTaxa.RDS')"
   ]
  },
  {
   "cell_type": "markdown",
   "metadata": {},
   "source": [
    "#### Rearrange sample naming convention"
   ]
  },
  {
   "cell_type": "code",
   "execution_count": null,
   "metadata": {},
   "outputs": [],
   "source": [
    "samples.out <- rownames(seqtab.nochim)\n",
    "Tank <- sapply(strsplit(samples.out, \"_\"), `[`, 1)\n",
    "Fish <- sapply(strsplit(samples.out, \"_\"), `[`, 2)\n",
    "Tissue <- sapply(strsplit(samples.out, \"_\"), `[`, 3)\n",
    "SampleID <- samples.out\n",
    "meta.df <- data.frame(SampleID=SampleID, Tank=Tank, Fish=Fish, Tissue=Tissue)\n",
    "rownames(meta.df) <- samples.out"
   ]
  },
  {
   "cell_type": "code",
   "execution_count": null,
   "metadata": {},
   "outputs": [],
   "source": [
    "write.csv(meta.df, 'metaData.csv')"
   ]
  },
  {
   "cell_type": "markdown",
   "metadata": {},
   "source": [
    "#### Construct phylogenetic tree for phylogenetically informed diversity metrics"
   ]
  },
  {
   "cell_type": "code",
   "execution_count": null,
   "metadata": {},
   "outputs": [],
   "source": [
    "require('DECIPHER')\n",
    "seqs <- getSequences(seqtab.nochim)\n",
    "names(seqs) <- seqs \n",
    "alignment <- AlignSeqs(DNAStringSet(seqs), anchor=NA)"
   ]
  },
  {
   "cell_type": "code",
   "execution_count": null,
   "metadata": {},
   "outputs": [],
   "source": [
    "library('phangorn')\n",
    "fitGTR <- update(fit, k=4, inv=0.2)\n",
    "fitGTR <- optim.pml(fitGTR, model=\"GTR\", optInv=TRUE, optGamma=TRUE, rearrangement = \"stochastic\", control = pml.control(trace = 0))\n",
    "detach('package:phangorn', unload=TRUE)\n",
    "saveRDS(fitGTR, \"phyfitGTR.RDS\")"
   ]
  },
  {
   "cell_type": "code",
   "execution_count": null,
   "metadata": {},
   "outputs": [],
   "source": [
    "fitGTR <- readRDS(\"RDS_Data/phyfitGTR.RDS\")"
   ]
  },
  {
   "cell_type": "code",
   "execution_count": null,
   "metadata": {},
   "outputs": [],
   "source": [
    "ps <- phyloseq(otu_table(seqtab.nochim, taxa_are_rows=FALSE), \n",
    "               sample_data(meta.df), \n",
    "               tax_table(taxa),\n",
    "               phy_tree(fitGTR$tree))\n",
    "ps"
   ]
  },
  {
   "cell_type": "code",
   "execution_count": null,
   "metadata": {},
   "outputs": [],
   "source": [
    "dna <- Biostrings::DNAStringSet(taxa_names(ps))\n",
    "names(dna) <- taxa_names(ps)\n",
    "ps <- merge_phyloseq(ps, dna)\n",
    "taxa_names(ps) <- paste0(\"ASV\", seq(ntaxa(ps)))\n",
    "ps"
   ]
  },
  {
   "cell_type": "code",
   "execution_count": null,
   "metadata": {},
   "outputs": [],
   "source": [
    "saveRDS(ps, 'NCWMAC_ps_wTree.RDS')"
   ]
  }
 ],
 "metadata": {
  "kernelspec": {
   "display_name": "R",
   "language": "R",
   "name": "ir"
  },
  "language_info": {
   "codemirror_mode": "r",
   "file_extension": ".r",
   "mimetype": "text/x-r-source",
   "name": "R",
   "pygments_lexer": "r",
   "version": "4.0.1"
  }
 },
 "nbformat": 4,
 "nbformat_minor": 4
}
