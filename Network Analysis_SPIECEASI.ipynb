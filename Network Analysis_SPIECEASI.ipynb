{
 "cells": [
  {
   "cell_type": "markdown",
   "metadata": {},
   "source": [
    "# Microbiota network construction and plotting"
   ]
  },
  {
   "cell_type": "markdown",
   "metadata": {},
   "source": [
    "## Salmo salar mucosal tissue microbiota across functional feed treatments"
   ]
  },
  {
   "cell_type": "markdown",
   "metadata": {},
   "source": [
    "#### Load libraries"
   ]
  },
  {
   "cell_type": "code",
   "execution_count": null,
   "metadata": {},
   "outputs": [],
   "source": [
    "set.seed(123)\n",
    "library('dplyr'); packageVersion('dplyr')\n",
    "library('Matrix'); packageVersion('Matrix')\n",
    "library('intergraph');packageVersion('intergraph')\n",
    "library('GGally');packageVersion('GGally')\n",
    "library('ggnet');packageVersion('ggnet')\n",
    "library('ggnetwork');packageVersion('ggnetwork')\n",
    "library('sna');packageVersion('sna')\n",
    "library('network');packageVersion('network')\n",
    "library('ggpubr');packageVersion('ggpubr')\n",
    "library('igraph');packageVersion('igraph')\n",
    "library('seqtime'); packageVersion('seqtime')\n",
    "library('SpiecEasi'); packageVersion('SpiecEasi')\n",
    "library('phyloseq'); packageVersion('phyloseq')\n",
    "library('RColorBrewer');packageVersion('RColorBrewer')\n",
    "library('CINNA');packageVersion('CINNA')\n",
    "#library('');packageVersion('')"
   ]
  },
  {
   "cell_type": "markdown",
   "metadata": {},
   "source": [
    "#### Parse data into tissue specific datasets"
   ]
  },
  {
   "cell_type": "code",
   "execution_count": 3,
   "metadata": {},
   "outputs": [
    {
     "data": {
      "text/plain": [
       "phyloseq-class experiment-level object\n",
       "otu_table()   OTU Table:         [ 2378 taxa and 209 samples ]\n",
       "sample_data() Sample Data:       [ 209 samples by 5 sample variables ]\n",
       "tax_table()   Taxonomy Table:    [ 2378 taxa by 7 taxonomic ranks ]\n",
       "phy_tree()    Phylogenetic Tree: [ 2378 tips and 2377 internal nodes ]\n",
       "refseq()      DNAStringSet:      [ 2378 reference sequences ]"
      ]
     },
     "metadata": {},
     "output_type": "display_data"
    },
    {
     "data": {
      "text/plain": [
       "phyloseq-class experiment-level object\n",
       "otu_table()   OTU Table:         [ 2378 taxa and 68 samples ]\n",
       "sample_data() Sample Data:       [ 68 samples by 5 sample variables ]\n",
       "tax_table()   Taxonomy Table:    [ 2378 taxa by 7 taxonomic ranks ]\n",
       "phy_tree()    Phylogenetic Tree: [ 2378 tips and 2377 internal nodes ]\n",
       "refseq()      DNAStringSet:      [ 2378 reference sequences ]"
      ]
     },
     "metadata": {},
     "output_type": "display_data"
    },
    {
     "data": {
      "text/plain": [
       "phyloseq-class experiment-level object\n",
       "otu_table()   OTU Table:         [ 2378 taxa and 69 samples ]\n",
       "sample_data() Sample Data:       [ 69 samples by 5 sample variables ]\n",
       "tax_table()   Taxonomy Table:    [ 2378 taxa by 7 taxonomic ranks ]\n",
       "phy_tree()    Phylogenetic Tree: [ 2378 tips and 2377 internal nodes ]\n",
       "refseq()      DNAStringSet:      [ 2378 reference sequences ]"
      ]
     },
     "metadata": {},
     "output_type": "display_data"
    },
    {
     "data": {
      "text/plain": [
       "phyloseq-class experiment-level object\n",
       "otu_table()   OTU Table:         [ 2378 taxa and 72 samples ]\n",
       "sample_data() Sample Data:       [ 72 samples by 5 sample variables ]\n",
       "tax_table()   Taxonomy Table:    [ 2378 taxa by 7 taxonomic ranks ]\n",
       "phy_tree()    Phylogenetic Tree: [ 2378 tips and 2377 internal nodes ]\n",
       "refseq()      DNAStringSet:      [ 2378 reference sequences ]"
      ]
     },
     "metadata": {},
     "output_type": "display_data"
    }
   ],
   "source": [
    "psFish1f <- readRDS('psFish1f.RDS')\n",
    "psFish1f\n",
    "\n",
    "psGut <- prune_samples(sample_data(psFish1f)$Tissue %in% c('Gut'), psFish1f)\n",
    "psGut\n",
    "\n",
    "psGill <- prune_samples(sample_data(psFish1f)$Tissue %in% c('Gill'), psFish1f)\n",
    "psGill\n",
    "\n",
    "psSkin <- prune_samples(sample_data(psFish1f)$Tissue %in% c('Skin'), psFish1f)\n",
    "psSkin"
   ]
  },
  {
   "cell_type": "markdown",
   "metadata": {},
   "source": [
    "#### Filter out spurious ASVs from each dataset (0.0001% abundance)"
   ]
  },
  {
   "cell_type": "code",
   "execution_count": 4,
   "metadata": {},
   "outputs": [
    {
     "data": {
      "text/plain": [
       "phyloseq-class experiment-level object\n",
       "otu_table()   OTU Table:         [ 898 taxa and 209 samples ]\n",
       "sample_data() Sample Data:       [ 209 samples by 5 sample variables ]\n",
       "tax_table()   Taxonomy Table:    [ 898 taxa by 7 taxonomic ranks ]\n",
       "phy_tree()    Phylogenetic Tree: [ 898 tips and 897 internal nodes ]\n",
       "refseq()      DNAStringSet:      [ 898 reference sequences ]"
      ]
     },
     "metadata": {},
     "output_type": "display_data"
    },
    {
     "data": {
      "text/plain": [
       "phyloseq-class experiment-level object\n",
       "otu_table()   OTU Table:         [ 281 taxa and 68 samples ]\n",
       "sample_data() Sample Data:       [ 68 samples by 5 sample variables ]\n",
       "tax_table()   Taxonomy Table:    [ 281 taxa by 7 taxonomic ranks ]\n",
       "phy_tree()    Phylogenetic Tree: [ 281 tips and 280 internal nodes ]\n",
       "refseq()      DNAStringSet:      [ 281 reference sequences ]"
      ]
     },
     "metadata": {},
     "output_type": "display_data"
    },
    {
     "data": {
      "text/plain": [
       "phyloseq-class experiment-level object\n",
       "otu_table()   OTU Table:         [ 1009 taxa and 69 samples ]\n",
       "sample_data() Sample Data:       [ 69 samples by 5 sample variables ]\n",
       "tax_table()   Taxonomy Table:    [ 1009 taxa by 7 taxonomic ranks ]\n",
       "phy_tree()    Phylogenetic Tree: [ 1009 tips and 1008 internal nodes ]\n",
       "refseq()      DNAStringSet:      [ 1009 reference sequences ]"
      ]
     },
     "metadata": {},
     "output_type": "display_data"
    },
    {
     "data": {
      "text/plain": [
       "phyloseq-class experiment-level object\n",
       "otu_table()   OTU Table:         [ 888 taxa and 72 samples ]\n",
       "sample_data() Sample Data:       [ 72 samples by 5 sample variables ]\n",
       "tax_table()   Taxonomy Table:    [ 888 taxa by 7 taxonomic ranks ]\n",
       "phy_tree()    Phylogenetic Tree: [ 888 tips and 887 internal nodes ]\n",
       "refseq()      DNAStringSet:      [ 888 reference sequences ]"
      ]
     },
     "metadata": {},
     "output_type": "display_data"
    }
   ],
   "source": [
    "psFishR = transform_sample_counts(psFish1f, function(x) x / sum(x))\n",
    "#psGutR\n",
    "psFishRF = filter_taxa(psFishR, function(x) mean(x)  > 0.0001, TRUE)\n",
    "#psGutRF                      \n",
    "psFishF <- prune_taxa(taxa_names(psFishRF), psFish1f)\n",
    "psFishF\n",
    "\n",
    "psGutR = transform_sample_counts(psGut, function(x) x / sum(x))\n",
    "#psGutR\n",
    "psGutRF = filter_taxa(psGutR, function(x) mean(x)  > 0.0001, TRUE)\n",
    "#psGutRF                      \n",
    "psGutF <- prune_taxa(taxa_names(psGutRF), psGut)\n",
    "psGutF\n",
    "                      \n",
    "psGillR = transform_sample_counts(psGill, function(x) x / sum(x))\n",
    "#psGillR\n",
    "psGillRF = filter_taxa(psGillR, function(x) mean(x)  > 0.0001, TRUE)\n",
    "#psGillRF                      \n",
    "psGillF <- prune_taxa(taxa_names(psGillRF), psGill)\n",
    "psGillF \n",
    "                       \n",
    "psSkinR = transform_sample_counts(psSkin, function(x) x / sum(x))\n",
    "#psSkinR\n",
    "psSkinRF = filter_taxa(psSkinR, function(x) mean(x)  > 0.0001, TRUE)\n",
    "#psSkinRF                      \n",
    "psSkinF <- prune_taxa(taxa_names(psSkinRF), psSkin)\n",
    "psSkinF     "
   ]
  },
  {
   "cell_type": "markdown",
   "metadata": {},
   "source": [
    "## Construct/infer networks from each data set"
   ]
  },
  {
   "cell_type": "code",
   "execution_count": 5,
   "metadata": {},
   "outputs": [
    {
     "name": "stderr",
     "output_type": "stream",
     "text": [
      "Applying data transformations...\n",
      "\n",
      "Selecting model with pulsar using stars...\n",
      "\n",
      "Fitting final estimate with mb...\n",
      "\n",
      "done\n",
      "\n"
     ]
    },
    {
     "data": {
      "text/html": [
       "0.0452374584164058"
      ],
      "text/latex": [
       "0.0452374584164058"
      ],
      "text/markdown": [
       "0.0452374584164058"
      ],
      "text/plain": [
       "[1] 0.04523746"
      ]
     },
     "metadata": {},
     "output_type": "display_data"
    },
    {
     "data": {
      "text/html": [
       "5961"
      ],
      "text/latex": [
       "5961"
      ],
      "text/markdown": [
       "5961"
      ],
      "text/plain": [
       "[1] 5961"
      ]
     },
     "metadata": {},
     "output_type": "display_data"
    }
   ],
   "source": [
    "se.mb.Fish <- spiec.easi(psFishF, \n",
    "                         method = 'mb',\n",
    "                         lambda.min.ratio = 1e-2,\n",
    "                         nlambda = 20,\n",
    "                         pulsar.params = list(rep.num = 99, \n",
    "                                              seed = 123, \n",
    "                                              ncores = 2)) \n",
    "getStability(se.mb.Fish)\n",
    "sum(getRefit(se.mb.Fish))/2\n",
    "\n",
    "ig.mbFish <- adj2igraph(getRefit(se.mb.Fish),\n",
    "                        vertex.attr = list(name = taxa_names(psFishF)))"
   ]
  },
  {
   "cell_type": "code",
   "execution_count": 6,
   "metadata": {},
   "outputs": [],
   "source": [
    "saveRDS(se.mb.Fish, 'networks/se.mb.Fish')\n",
    "saveRDS(ig.mbFish, 'networks/ig.mbFish')"
   ]
  },
  {
   "cell_type": "code",
   "execution_count": 7,
   "metadata": {},
   "outputs": [
    {
     "name": "stderr",
     "output_type": "stream",
     "text": [
      "Applying data transformations...\n",
      "\n",
      "Selecting model with pulsar using stars...\n",
      "\n",
      "Fitting final estimate with mb...\n",
      "\n",
      "done\n",
      "\n"
     ]
    },
    {
     "data": {
      "text/html": [
       "0.0442855529666702"
      ],
      "text/latex": [
       "0.0442855529666702"
      ],
      "text/markdown": [
       "0.0442855529666702"
      ],
      "text/plain": [
       "[1] 0.04428555"
      ]
     },
     "metadata": {},
     "output_type": "display_data"
    },
    {
     "data": {
      "text/html": [
       "614"
      ],
      "text/latex": [
       "614"
      ],
      "text/markdown": [
       "614"
      ],
      "text/plain": [
       "[1] 614"
      ]
     },
     "metadata": {},
     "output_type": "display_data"
    }
   ],
   "source": [
    "se.mb.Gut <- spiec.easi(psGutF, \n",
    "                        method = 'mb',\n",
    "                        lambda.min.ratio = 1e-2,\n",
    "                        nlambda = 20,\n",
    "                        pulsar.params = list(rep.num = 99, \n",
    "                                             seed = 123, \n",
    "                                             ncores = 2)) \n",
    "\n",
    "getStability(se.mb.Gut)\n",
    "sum(getRefit(se.mb.Gut))/2\n",
    "\n",
    "ig.mbGut <- adj2igraph(getRefit(se.mb.Gut),\n",
    "                       vertex.attr = list(name = taxa_names(psGutF)))"
   ]
  },
  {
   "cell_type": "code",
   "execution_count": 8,
   "metadata": {},
   "outputs": [],
   "source": [
    "saveRDS(se.mb.Gut, 'networks/se.mb.Gut')\n",
    "saveRDS(ig.mbGut, 'networks/ig.mbGut')"
   ]
  },
  {
   "cell_type": "code",
   "execution_count": 9,
   "metadata": {},
   "outputs": [
    {
     "name": "stderr",
     "output_type": "stream",
     "text": [
      "Applying data transformations...\n",
      "\n",
      "Selecting model with pulsar using stars...\n",
      "\n",
      "Fitting final estimate with mb...\n",
      "\n",
      "done\n",
      "\n"
     ]
    },
    {
     "data": {
      "text/html": [
       "0.0408334342088801"
      ],
      "text/latex": [
       "0.0408334342088801"
      ],
      "text/markdown": [
       "0.0408334342088801"
      ],
      "text/plain": [
       "[1] 0.04083343"
      ]
     },
     "metadata": {},
     "output_type": "display_data"
    },
    {
     "data": {
      "text/html": [
       "9973"
      ],
      "text/latex": [
       "9973"
      ],
      "text/markdown": [
       "9973"
      ],
      "text/plain": [
       "[1] 9973"
      ]
     },
     "metadata": {},
     "output_type": "display_data"
    }
   ],
   "source": [
    "se.mb.Gill <- spiec.easi(psGillF, \n",
    "                         method = 'mb',\n",
    "                         lambda.min.ratio = 1e-2,\n",
    "                         nlambda = 20,\n",
    "                         pulsar.params = list(rep.num = 99, \n",
    "                                              seed = 123, \n",
    "                                              ncores = 2)) \n",
    "\n",
    "getStability(se.mb.Gill)\n",
    "sum(getRefit(se.mb.Gill))/2\n",
    "\n",
    "ig.mbGill <- adj2igraph(getRefit(se.mb.Gill),\n",
    "                        vertex.attr = list(name = taxa_names(psGillF)))"
   ]
  },
  {
   "cell_type": "code",
   "execution_count": 10,
   "metadata": {},
   "outputs": [],
   "source": [
    "saveRDS(se.mb.Gill, 'networks/se.mb.Gill')\n",
    "saveRDS(ig.mbGill, 'networks/ig.mbGill')"
   ]
  },
  {
   "cell_type": "code",
   "execution_count": 11,
   "metadata": {},
   "outputs": [
    {
     "name": "stderr",
     "output_type": "stream",
     "text": [
      "Applying data transformations...\n",
      "\n",
      "Selecting model with pulsar using stars...\n",
      "\n",
      "Fitting final estimate with mb...\n",
      "\n",
      "done\n",
      "\n"
     ]
    },
    {
     "data": {
      "text/html": [
       "0.0414202531656667"
      ],
      "text/latex": [
       "0.0414202531656667"
      ],
      "text/markdown": [
       "0.0414202531656667"
      ],
      "text/plain": [
       "[1] 0.04142025"
      ]
     },
     "metadata": {},
     "output_type": "display_data"
    },
    {
     "data": {
      "text/html": [
       "7904"
      ],
      "text/latex": [
       "7904"
      ],
      "text/markdown": [
       "7904"
      ],
      "text/plain": [
       "[1] 7904"
      ]
     },
     "metadata": {},
     "output_type": "display_data"
    }
   ],
   "source": [
    "se.mb.Skin <- spiec.easi(psSkinF, \n",
    "                         method = 'mb',\n",
    "                         lambda.min.ratio = 1e-2,\n",
    "                         nlambda = 20,\n",
    "                         pulsar.params = list(rep.num = 99, \n",
    "                                              seed = 123, \n",
    "                                              ncores = 2)) \n",
    "\n",
    "getStability(se.mb.Skin)\n",
    "sum(getRefit(se.mb.Skin))/2\n",
    "\n",
    "ig.mbSkin <- adj2igraph(getRefit(se.mb.Skin),\n",
    "                        vertex.attr = list(name = taxa_names(psSkinF)))"
   ]
  },
  {
   "cell_type": "code",
   "execution_count": 12,
   "metadata": {},
   "outputs": [],
   "source": [
    "saveRDS(se.mb.Skin, 'networks/se.mb.Skin')\n",
    "saveRDS(ig.mbSkin, 'networks/ig.mbSkin')"
   ]
  },
  {
   "cell_type": "code",
   "execution_count": 13,
   "metadata": {},
   "outputs": [
    {
     "data": {
      "text/html": [
       "<strong>pdf:</strong> 2"
      ],
      "text/latex": [
       "\\textbf{pdf:} 2"
      ],
      "text/markdown": [
       "**pdf:** 2"
      ],
      "text/plain": [
       "pdf \n",
       "  2 "
      ]
     },
     "metadata": {},
     "output_type": "display_data"
    },
    {
     "data": {
      "text/html": [
       "<strong>pdf:</strong> 2"
      ],
      "text/latex": [
       "\\textbf{pdf:} 2"
      ],
      "text/markdown": [
       "**pdf:** 2"
      ],
      "text/plain": [
       "pdf \n",
       "  2 "
      ]
     },
     "metadata": {},
     "output_type": "display_data"
    },
    {
     "data": {
      "text/html": [
       "<strong>pdf:</strong> 2"
      ],
      "text/latex": [
       "\\textbf{pdf:} 2"
      ],
      "text/markdown": [
       "**pdf:** 2"
      ],
      "text/plain": [
       "pdf \n",
       "  2 "
      ]
     },
     "metadata": {},
     "output_type": "display_data"
    },
    {
     "data": {
      "text/html": [
       "<strong>pdf:</strong> 2"
      ],
      "text/latex": [
       "\\textbf{pdf:} 2"
      ],
      "text/markdown": [
       "**pdf:** 2"
      ],
      "text/plain": [
       "pdf \n",
       "  2 "
      ]
     },
     "metadata": {},
     "output_type": "display_data"
    },
    {
     "data": {
      "text/html": [
       "<strong>pdf:</strong> 2"
      ],
      "text/latex": [
       "\\textbf{pdf:} 2"
      ],
      "text/markdown": [
       "**pdf:** 2"
      ],
      "text/plain": [
       "pdf \n",
       "  2 "
      ]
     },
     "metadata": {},
     "output_type": "display_data"
    },
    {
     "data": {
      "text/html": [
       "<strong>pdf:</strong> 2"
      ],
      "text/latex": [
       "\\textbf{pdf:} 2"
      ],
      "text/markdown": [
       "**pdf:** 2"
      ],
      "text/plain": [
       "pdf \n",
       "  2 "
      ]
     },
     "metadata": {},
     "output_type": "display_data"
    },
    {
     "data": {
      "text/html": [
       "<strong>pdf:</strong> 2"
      ],
      "text/latex": [
       "\\textbf{pdf:} 2"
      ],
      "text/markdown": [
       "**pdf:** 2"
      ],
      "text/plain": [
       "pdf \n",
       "  2 "
      ]
     },
     "metadata": {},
     "output_type": "display_data"
    },
    {
     "data": {
      "text/html": [
       "<strong>pdf:</strong> 2"
      ],
      "text/latex": [
       "\\textbf{pdf:} 2"
      ],
      "text/markdown": [
       "**pdf:** 2"
      ],
      "text/plain": [
       "pdf \n",
       "  2 "
      ]
     },
     "metadata": {},
     "output_type": "display_data"
    }
   ],
   "source": [
    "elist.mbFish <- summary(symBeta(getOptBeta(se.mb.Fish), mode='maxabs'))\n",
    "pdf('networks/AllTissue_edgeweigths.pdf')\n",
    "hist(elist.mbFish[,3], main='All Tissues', xlab='edge weights')\n",
    "dev.off()\n",
    "dd.mbFish <- degree.distribution(ig.mbFish)\n",
    "pdf('networks/AllTissue_degreefreq.pdf')\n",
    "plot(0:(length(dd.mbFish)-1), dd.mbFish , ylim=c(0,.35), type='b',\n",
    "       ylab=\"Frequency\", xlab=\"Degree\", main=\"All Tissue Degree Distributions\")\n",
    "dev.off()\n",
    "\n",
    "elist.mbGut <- summary(symBeta(getOptBeta(se.mb.Gut), mode='maxabs'))\n",
    "pdf('networks/Gut_edgeweigths.pdf')\n",
    "hist(elist.mbGut[,3], main='Gut', xlab='edge weights')\n",
    "dev.off()\n",
    "dd.mbGut <- degree.distribution(ig.mbGut)\n",
    "pdf('networks/Gut_degreefreq.pdf')\n",
    "plot(0:(length(dd.mbGut)-1), dd.mbGut , ylim=c(0,.35), type='b',\n",
    "      ylab=\"Frequency\", xlab=\"Degree\", main=\"Gut Degree Distributions\")\n",
    "dev.off()\n",
    "\n",
    "elist.mbGill <- summary(symBeta(getOptBeta(se.mb.Gill), mode='maxabs'))\n",
    "pdf('networks/Gill_edgeweigths.pdf')\n",
    "hist(elist.mbGill[,3], main='Gill', xlab='edge weights')\n",
    "dev.off()\n",
    "dd.mbGill <- degree.distribution(ig.mbGill)\n",
    "pdf('networks/Gill_degreefreq.pdf')\n",
    "plot(0:(length(dd.mbGill)-1), dd.mbGill , ylim=c(0,.35), type='b',\n",
    "       ylab=\"Frequency\", xlab=\"Degree\", main=\"Gill Degree Distributions\")\n",
    "dev.off()\n",
    "\n",
    "elist.mbSkin <- summary(symBeta(getOptBeta(se.mb.Skin), mode='maxabs'))\n",
    "pdf('networks/Skin_edgeweigths.pdf')\n",
    "hist(elist.mbSkin[,3], main='Skin', xlab='edge weights')\n",
    "dev.off()\n",
    "dd.mbSkin <- degree.distribution(ig.mbSkin)\n",
    "pdf('networks/Skin_degreefreq.pdf')\n",
    "plot(0:(length(dd.mbSkin)-1), dd.mbSkin , ylim=c(0,.35), type='b',\n",
    "       ylab=\"Frequency\", xlab=\"Degree\", main=\"Skin Degree Distributions\")\n",
    "dev.off()"
   ]
  },
  {
   "cell_type": "raw",
   "metadata": {},
   "source": [
    "se.mb.Fish <- readRDS('networks/se.mb.Fish')\n",
    "ig.mbFish <- readRDS('networks/ig.mbFish')"
   ]
  },
  {
   "cell_type": "raw",
   "metadata": {},
   "source": [
    "se.mb.Gut <- readRDS('networks/se.mb.Gut')\n",
    "ig.mbGut <- readRDS('networks/ig.mbGut')"
   ]
  },
  {
   "cell_type": "raw",
   "metadata": {},
   "source": [
    "se.mb.Gill <- readRDS('networks/se.mb.Gill')\n",
    "ig.mbGill <- readRDS('networks/ig.mbGill')"
   ]
  },
  {
   "cell_type": "raw",
   "metadata": {},
   "source": [
    "se.mb.Skin <- readRDS('networks/se.mb.Skin')\n",
    "ig.mbSkin <- readRDS('networks/ig.mbSkin')"
   ]
  },
  {
   "cell_type": "code",
   "execution_count": 14,
   "metadata": {},
   "outputs": [
    {
     "name": "stdout",
     "output_type": "stream",
     "text": [
      " [1] \"subgraph centrality scores\"                      \n",
      " [2] \"Topological Coefficient\"                         \n",
      " [3] \"Average Distance\"                                \n",
      " [4] \"Barycenter Centrality\"                           \n",
      " [5] \"BottleNeck Centrality\"                           \n",
      " [6] \"Centroid value\"                                  \n",
      " [7] \"Closeness Centrality (Freeman)\"                  \n",
      " [8] \"ClusterRank\"                                     \n",
      " [9] \"Decay Centrality\"                                \n",
      "[10] \"Degree Centrality\"                               \n",
      "[11] \"Diffusion Degree\"                                \n",
      "[12] \"DMNC - Density of Maximum Neighborhood Component\"\n",
      "[13] \"Eccentricity Centrality\"                         \n",
      "[14] \"Harary Centrality\"                               \n",
      "[15] \"eigenvector centralities\"                        \n",
      "[16] \"K-core Decomposition\"                            \n",
      "[17] \"Geodesic K-Path Centrality\"                      \n",
      "[18] \"Katz Centrality (Katz Status Index)\"             \n",
      "[19] \"Kleinberg's authority centrality scores\"         \n",
      "[20] \"Kleinberg's hub centrality scores\"               \n",
      "[21] \"clustering coefficient\"                          \n",
      "[22] \"Lin Centrality\"                                  \n",
      "[23] \"Lobby Index (Centrality)\"                        \n",
      "[24] \"Markov Centrality\"                               \n",
      "[25] \"Radiality Centrality\"                            \n",
      "[26] \"Shortest-Paths Betweenness Centrality\"           \n",
      "[27] \"Current-Flow Closeness Centrality\"               \n",
      "[28] \"Closeness centrality (Latora)\"                   \n",
      "[29] \"Communicability Betweenness Centrality\"          \n",
      "[30] \"Community Centrality\"                            \n",
      "[31] \"Cross-Clique Connectivity\"                       \n",
      "[32] \"Entropy Centrality\"                              \n",
      "[33] \"EPC - Edge Percolated Component\"                 \n",
      "[34] \"Laplacian Centrality\"                            \n",
      "[35] \"Leverage Centrality\"                             \n",
      "[36] \"MNC - Maximum Neighborhood Component\"            \n",
      "[37] \"Hubbell Index\"                                   \n",
      "[38] \"Semi Local Centrality\"                           \n",
      "[39] \"Closeness Vitality\"                              \n",
      "[40] \"Residual Closeness Centrality\"                   \n",
      "[41] \"Stress Centrality\"                               \n",
      "[42] \"Load Centrality\"                                 \n",
      "[43] \"Flow Betweenness Centrality\"                     \n",
      "[44] \"Information Centrality\"                          \n",
      "[45] \"Dangalchev Closeness Centrality\"                 \n",
      "[46] \"Group Centrality\"                                \n",
      "[47] \"Harmonic Centrality\"                             \n",
      "[48] \"Local Bridging Centrality\"                       \n",
      "[49] \"Wiener Index Centrality\"                         \n",
      "[50] \"Weighted Vertex Degree\"                          \n"
     ]
    }
   ],
   "source": [
    "pr_centFish <- proper_centralities(ig.mbFish)\n",
    "cal_centFish <- calculate_centralities(ig.mbFish, include = pr_centFish[c(1,2,3,4,7,10,11,15,24,26,32,34,41,44,50)])"
   ]
  },
  {
   "cell_type": "code",
   "execution_count": 15,
   "metadata": {},
   "outputs": [
    {
     "data": {
      "image/png": "[encoded data removed]",
      "text/plain": [
       "plot without title"
      ]
     },
     "metadata": {
      "image/png": {
       "height": 420,
       "width": 420
      }
     },
     "output_type": "display_data"
    }
   ],
   "source": [
    "centPCAFish <- cal_centFish %>% pca_centralities(scale.unit = TRUE)\n",
    "centPCAFish"
   ]
  },
  {
   "cell_type": "code",
   "execution_count": 21,
   "metadata": {},
   "outputs": [
    {
     "name": "stdout",
     "output_type": "stream",
     "text": [
      " [1] \"subgraph centrality scores\"                      \n",
      " [2] \"Topological Coefficient\"                         \n",
      " [3] \"Average Distance\"                                \n",
      " [4] \"Barycenter Centrality\"                           \n",
      " [5] \"BottleNeck Centrality\"                           \n",
      " [6] \"Centroid value\"                                  \n",
      " [7] \"Closeness Centrality (Freeman)\"                  \n",
      " [8] \"ClusterRank\"                                     \n",
      " [9] \"Decay Centrality\"                                \n",
      "[10] \"Degree Centrality\"                               \n",
      "[11] \"Diffusion Degree\"                                \n",
      "[12] \"DMNC - Density of Maximum Neighborhood Component\"\n",
      "[13] \"Eccentricity Centrality\"                         \n",
      "[14] \"Harary Centrality\"                               \n",
      "[15] \"eigenvector centralities\"                        \n",
      "[16] \"K-core Decomposition\"                            \n",
      "[17] \"Geodesic K-Path Centrality\"                      \n",
      "[18] \"Katz Centrality (Katz Status Index)\"             \n",
      "[19] \"Kleinberg's authority centrality scores\"         \n",
      "[20] \"Kleinberg's hub centrality scores\"               \n",
      "[21] \"clustering coefficient\"                          \n",
      "[22] \"Lin Centrality\"                                  \n",
      "[23] \"Lobby Index (Centrality)\"                        \n",
      "[24] \"Markov Centrality\"                               \n",
      "[25] \"Radiality Centrality\"                            \n",
      "[26] \"Shortest-Paths Betweenness Centrality\"           \n",
      "[27] \"Current-Flow Closeness Centrality\"               \n",
      "[28] \"Closeness centrality (Latora)\"                   \n",
      "[29] \"Communicability Betweenness Centrality\"          \n",
      "[30] \"Community Centrality\"                            \n",
      "[31] \"Cross-Clique Connectivity\"                       \n",
      "[32] \"Entropy Centrality\"                              \n",
      "[33] \"EPC - Edge Percolated Component\"                 \n",
      "[34] \"Laplacian Centrality\"                            \n",
      "[35] \"Leverage Centrality\"                             \n",
      "[36] \"MNC - Maximum Neighborhood Component\"            \n",
      "[37] \"Hubbell Index\"                                   \n",
      "[38] \"Semi Local Centrality\"                           \n",
      "[39] \"Closeness Vitality\"                              \n",
      "[40] \"Residual Closeness Centrality\"                   \n",
      "[41] \"Stress Centrality\"                               \n",
      "[42] \"Load Centrality\"                                 \n",
      "[43] \"Flow Betweenness Centrality\"                     \n",
      "[44] \"Information Centrality\"                          \n",
      "[45] \"Dangalchev Closeness Centrality\"                 \n",
      "[46] \"Group Centrality\"                                \n",
      "[47] \"Harmonic Centrality\"                             \n",
      "[48] \"Local Bridging Centrality\"                       \n",
      "[49] \"Wiener Index Centrality\"                         \n",
      "[50] \"Weighted Vertex Degree\"                          \n"
     ]
    }
   ],
   "source": [
    "pr_cent <- proper_centralities(ig.mbGut)"
   ]
  },
  {
   "cell_type": "code",
   "execution_count": 23,
   "metadata": {},
   "outputs": [
    {
     "name": "stdout",
     "output_type": "stream",
     "text": [
      " [1] \"subgraph centrality scores\"                      \n",
      " [2] \"Topological Coefficient\"                         \n",
      " [3] \"Average Distance\"                                \n",
      " [4] \"Barycenter Centrality\"                           \n",
      " [5] \"BottleNeck Centrality\"                           \n",
      " [6] \"Centroid value\"                                  \n",
      " [7] \"Closeness Centrality (Freeman)\"                  \n",
      " [8] \"ClusterRank\"                                     \n",
      " [9] \"Decay Centrality\"                                \n",
      "[10] \"Degree Centrality\"                               \n",
      "[11] \"Diffusion Degree\"                                \n",
      "[12] \"DMNC - Density of Maximum Neighborhood Component\"\n",
      "[13] \"Eccentricity Centrality\"                         \n",
      "[14] \"Harary Centrality\"                               \n",
      "[15] \"eigenvector centralities\"                        \n",
      "[16] \"K-core Decomposition\"                            \n",
      "[17] \"Geodesic K-Path Centrality\"                      \n",
      "[18] \"Katz Centrality (Katz Status Index)\"             \n",
      "[19] \"Kleinberg's authority centrality scores\"         \n",
      "[20] \"Kleinberg's hub centrality scores\"               \n",
      "[21] \"clustering coefficient\"                          \n",
      "[22] \"Lin Centrality\"                                  \n",
      "[23] \"Lobby Index (Centrality)\"                        \n",
      "[24] \"Markov Centrality\"                               \n",
      "[25] \"Radiality Centrality\"                            \n",
      "[26] \"Shortest-Paths Betweenness Centrality\"           \n",
      "[27] \"Current-Flow Closeness Centrality\"               \n",
      "[28] \"Closeness centrality (Latora)\"                   \n",
      "[29] \"Communicability Betweenness Centrality\"          \n",
      "[30] \"Community Centrality\"                            \n",
      "[31] \"Cross-Clique Connectivity\"                       \n",
      "[32] \"Entropy Centrality\"                              \n",
      "[33] \"EPC - Edge Percolated Component\"                 \n",
      "[34] \"Laplacian Centrality\"                            \n",
      "[35] \"Leverage Centrality\"                             \n",
      "[36] \"MNC - Maximum Neighborhood Component\"            \n",
      "[37] \"Hubbell Index\"                                   \n",
      "[38] \"Semi Local Centrality\"                           \n",
      "[39] \"Closeness Vitality\"                              \n",
      "[40] \"Residual Closeness Centrality\"                   \n",
      "[41] \"Stress Centrality\"                               \n",
      "[42] \"Load Centrality\"                                 \n",
      "[43] \"Flow Betweenness Centrality\"                     \n",
      "[44] \"Information Centrality\"                          \n",
      "[45] \"Dangalchev Closeness Centrality\"                 \n",
      "[46] \"Group Centrality\"                                \n",
      "[47] \"Harmonic Centrality\"                             \n",
      "[48] \"Local Bridging Centrality\"                       \n",
      "[49] \"Wiener Index Centrality\"                         \n",
      "[50] \"Weighted Vertex Degree\"                          \n"
     ]
    },
    {
     "data": {
      "image/png": "[encoded data removed]",
      "text/plain": [
       "plot without title"
      ]
     },
     "metadata": {
      "image/png": {
       "height": 420,
       "width": 420
      }
     },
     "output_type": "display_data"
    }
   ],
   "source": [
    "pr_centGill <- proper_centralities(ig.mbGill)\n",
    "cal_centGill <- calculate_centralities(ig.mbGill, include = pr_centGill[c(1,2,3,4,7,10,11,15,24,26,32,34,41,44,50)])\n",
    "centPCAGill <- cal_centGill %>% pca_centralities(scale.unit = TRUE)\n",
    "centPCAGill"
   ]
  },
  {
   "cell_type": "code",
   "execution_count": 24,
   "metadata": {},
   "outputs": [
    {
     "name": "stdout",
     "output_type": "stream",
     "text": [
      " [1] \"subgraph centrality scores\"                      \n",
      " [2] \"Topological Coefficient\"                         \n",
      " [3] \"Average Distance\"                                \n",
      " [4] \"Barycenter Centrality\"                           \n",
      " [5] \"BottleNeck Centrality\"                           \n",
      " [6] \"Centroid value\"                                  \n",
      " [7] \"Closeness Centrality (Freeman)\"                  \n",
      " [8] \"ClusterRank\"                                     \n",
      " [9] \"Decay Centrality\"                                \n",
      "[10] \"Degree Centrality\"                               \n",
      "[11] \"Diffusion Degree\"                                \n",
      "[12] \"DMNC - Density of Maximum Neighborhood Component\"\n",
      "[13] \"Eccentricity Centrality\"                         \n",
      "[14] \"Harary Centrality\"                               \n",
      "[15] \"eigenvector centralities\"                        \n",
      "[16] \"K-core Decomposition\"                            \n",
      "[17] \"Geodesic K-Path Centrality\"                      \n",
      "[18] \"Katz Centrality (Katz Status Index)\"             \n",
      "[19] \"Kleinberg's authority centrality scores\"         \n",
      "[20] \"Kleinberg's hub centrality scores\"               \n",
      "[21] \"clustering coefficient\"                          \n",
      "[22] \"Lin Centrality\"                                  \n",
      "[23] \"Lobby Index (Centrality)\"                        \n",
      "[24] \"Markov Centrality\"                               \n",
      "[25] \"Radiality Centrality\"                            \n",
      "[26] \"Shortest-Paths Betweenness Centrality\"           \n",
      "[27] \"Current-Flow Closeness Centrality\"               \n",
      "[28] \"Closeness centrality (Latora)\"                   \n",
      "[29] \"Communicability Betweenness Centrality\"          \n",
      "[30] \"Community Centrality\"                            \n",
      "[31] \"Cross-Clique Connectivity\"                       \n",
      "[32] \"Entropy Centrality\"                              \n",
      "[33] \"EPC - Edge Percolated Component\"                 \n",
      "[34] \"Laplacian Centrality\"                            \n",
      "[35] \"Leverage Centrality\"                             \n",
      "[36] \"MNC - Maximum Neighborhood Component\"            \n",
      "[37] \"Hubbell Index\"                                   \n",
      "[38] \"Semi Local Centrality\"                           \n",
      "[39] \"Closeness Vitality\"                              \n",
      "[40] \"Residual Closeness Centrality\"                   \n",
      "[41] \"Stress Centrality\"                               \n",
      "[42] \"Load Centrality\"                                 \n",
      "[43] \"Flow Betweenness Centrality\"                     \n",
      "[44] \"Information Centrality\"                          \n",
      "[45] \"Dangalchev Closeness Centrality\"                 \n",
      "[46] \"Group Centrality\"                                \n",
      "[47] \"Harmonic Centrality\"                             \n",
      "[48] \"Local Bridging Centrality\"                       \n",
      "[49] \"Wiener Index Centrality\"                         \n",
      "[50] \"Weighted Vertex Degree\"                          \n"
     ]
    },
    {
     "data": {
      "image/png": "[encoded data removed]",
      "text/plain": [
       "plot without title"
      ]
     },
     "metadata": {
      "image/png": {
       "height": 420,
       "width": 420
      }
     },
     "output_type": "display_data"
    }
   ],
   "source": [
    "pr_centSkin <- proper_centralities(ig.mbSkin)\n",
    "cal_centSkin <- calculate_centralities(ig.mbSkin, include = pr_centSkin[c(1,2,3,4,7,10,11,15,24,26,32,34,41,44,50)])\n",
    "centPCASkin <- cal_centSkin %>% pca_centralities(scale.unit = TRUE)\n",
    "centPCASkin"
   ]
  },
  {
   "cell_type": "code",
   "execution_count": 25,
   "metadata": {},
   "outputs": [],
   "source": [
    "PhylumPalette <- scale_color_manual(values = c('Acidobacteria' = \"#7FC97F\", \n",
    "                                                'Actinobacteria' = \"#BEAED4\", \n",
    "                                                 'Bacteroidetes' = \"#FDC086\", \n",
    "                                                 'Chloroflexi' = \"#FFFF99\", \n",
    "                                                 'Deinococcus-Thermus' = \"#FFFF99\",\n",
    "                                                 'Epsilonbacteraeota' = \"#386CB0\",\n",
    "                                                 'Firmicutes' = \"#F0027F\",\n",
    "                                                 'Gemmatimonadetes' = \"#BF5B17\", \n",
    "                                                 'Nitrospirae' = \"#BF5B17\", \n",
    "                                                 'Patescibacteria' = \"#666666\",\n",
    "                                                 'Planctomycetes' = \"#1B9E77\",\n",
    "                                                 'Proteobacteria' = \"#A6761D\",#\"#D95F02\",\n",
    "                                                 'Tenericutes' = \"#7570B3\",\n",
    "                                                 'Verrucomicrobia' = \"#E7298A\"))\n",
    "\n",
    "#\"#FFFF99\",\"#BF5B17\",\"#666666\",\"#66A61E\",\"#E6AB02\",,\"#666666\"\n",
    "#psFishFtaxa <- subset_taxa(psFishF, Phylum %in% phyList)\n",
    "#psFishFtaxa"
   ]
  },
  {
   "cell_type": "code",
   "execution_count": 26,
   "metadata": {},
   "outputs": [
    {
     "name": "stdout",
     "output_type": "stream",
     "text": [
      "[1] \"All\"\n"
     ]
    },
    {
     "data": {
      "text/html": [
       "0.681054003515127"
      ],
      "text/latex": [
       "0.681054003515127"
      ],
      "text/markdown": [
       "0.681054003515127"
      ],
      "text/plain": [
       "[1] 0.681054"
      ]
     },
     "metadata": {},
     "output_type": "display_data"
    },
    {
     "name": "stdout",
     "output_type": "stream",
     "text": [
      "[1] \"Gut\"\n"
     ]
    },
    {
     "data": {
      "text/html": [
       "0.78745203540206"
      ],
      "text/latex": [
       "0.78745203540206"
      ],
      "text/markdown": [
       "0.78745203540206"
      ],
      "text/plain": [
       "[1] 0.787452"
      ]
     },
     "metadata": {},
     "output_type": "display_data"
    },
    {
     "name": "stdout",
     "output_type": "stream",
     "text": [
      "[1] \"Gill\"\n"
     ]
    },
    {
     "data": {
      "text/html": [
       "0.811462635010136"
      ],
      "text/latex": [
       "0.811462635010136"
      ],
      "text/markdown": [
       "0.811462635010136"
      ],
      "text/plain": [
       "[1] 0.8114626"
      ]
     },
     "metadata": {},
     "output_type": "display_data"
    },
    {
     "name": "stdout",
     "output_type": "stream",
     "text": [
      "[1] \"Skin\"\n"
     ]
    },
    {
     "data": {
      "text/html": [
       "0.669418940094073"
      ],
      "text/latex": [
       "0.669418940094073"
      ],
      "text/markdown": [
       "0.669418940094073"
      ],
      "text/plain": [
       "[1] 0.6694189"
      ]
     },
     "metadata": {},
     "output_type": "display_data"
    }
   ],
   "source": [
    "print('All')\n",
    "btFish <- betweenness(ig.mbFish)\n",
    "cor(degree(ig.mbFish), btFish)\n",
    "\n",
    "print('Gut')\n",
    "btGut <- betweenness(ig.mbGut)\n",
    "cor(degree(ig.mbGut), btGut)\n",
    "\n",
    "print('Gill')\n",
    "btGill <- betweenness(ig.mbGill)\n",
    "cor(degree(ig.mbGill), btGill)\n",
    "\n",
    "print('Skin')\n",
    "btSkin <- betweenness(ig.mbSkin)\n",
    "cor(degree(ig.mbSkin), btSkin)"
   ]
  },
  {
   "cell_type": "code",
   "execution_count": 27,
   "metadata": {},
   "outputs": [
    {
     "name": "stdout",
     "output_type": "stream",
     "text": [
      "[1] \"All\"\n"
     ]
    },
    {
     "data": {
      "text/html": [
       "0.656302639268072"
      ],
      "text/latex": [
       "0.656302639268072"
      ],
      "text/markdown": [
       "0.656302639268072"
      ],
      "text/plain": [
       "[1] 0.6563026"
      ]
     },
     "metadata": {},
     "output_type": "display_data"
    },
    {
     "name": "stdout",
     "output_type": "stream",
     "text": [
      "[1] \"Gut\"\n"
     ]
    },
    {
     "data": {
      "text/html": [
       "0.766444484479697"
      ],
      "text/latex": [
       "0.766444484479697"
      ],
      "text/markdown": [
       "0.766444484479697"
      ],
      "text/plain": [
       "[1] 0.7664445"
      ]
     },
     "metadata": {},
     "output_type": "display_data"
    },
    {
     "name": "stdout",
     "output_type": "stream",
     "text": [
      "[1] \"Gill\"\n"
     ]
    },
    {
     "data": {
      "text/html": [
       "0.878267483340601"
      ],
      "text/latex": [
       "0.878267483340601"
      ],
      "text/markdown": [
       "0.878267483340601"
      ],
      "text/plain": [
       "[1] 0.8782675"
      ]
     },
     "metadata": {},
     "output_type": "display_data"
    },
    {
     "name": "stdout",
     "output_type": "stream",
     "text": [
      "[1] \"Skin\"\n"
     ]
    },
    {
     "data": {
      "text/html": [
       "0.89959671045322"
      ],
      "text/latex": [
       "0.89959671045322"
      ],
      "text/markdown": [
       "0.89959671045322"
      ],
      "text/plain": [
       "[1] 0.8995967"
      ]
     },
     "metadata": {},
     "output_type": "display_data"
    }
   ],
   "source": [
    "print('All')\n",
    "scFish <- subgraph_centrality(ig.mbFish)\n",
    "cor(degree(ig.mbFish), scFish)\n",
    "#degree(ig.mbFish)\n",
    "#scFish\n",
    "\n",
    "print('Gut')\n",
    "scGut <- subgraph_centrality(ig.mbGut)\n",
    "cor(degree(ig.mbGut), scGut)\n",
    "#degree(ig.mbFish)\n",
    "#scGut\n",
    "\n",
    "print('Gill')\n",
    "scGill <- subgraph_centrality(ig.mbGill)\n",
    "cor(degree(ig.mbGill), scGill)\n",
    "#degree(ig.mbFish)\n",
    "#scGill\n",
    "\n",
    "print('Skin')\n",
    "scSkin <- subgraph_centrality(ig.mbSkin)\n",
    "cor(degree(ig.mbSkin), scSkin)\n",
    "#degree(ig.mbFish)\n",
    "#scSkin"
   ]
  },
  {
   "cell_type": "code",
   "execution_count": 28,
   "metadata": {},
   "outputs": [
    {
     "data": {
      "text/html": [
       "<table class=\"dataframe\">\n",
       "<caption>A data.frame: 3 × 3</caption>\n",
       "<thead>\n",
       "\t<tr><th></th><th scope=col>btSkin</th><th scope=col>Tissue</th><th scope=col>taxa</th></tr>\n",
       "\t<tr><th></th><th scope=col>&lt;dbl&gt;</th><th scope=col>&lt;chr&gt;</th><th scope=col>&lt;txnmyTbl[,7]&gt;</th></tr>\n",
       "</thead>\n",
       "<tbody>\n",
       "\t<tr><th scope=row>ASV3</th><td>18025.328</td><td>Skin</td><td>Bacteria, Proteobacteria, Gammaproteobacteria, Enterobacteriales, Enterobacteriaceae, Escherichia/Shigella, NA</td></tr>\n",
       "\t<tr><th scope=row>ASV52</th><td> 7407.905</td><td>Skin</td><td>Bacteria, Proteobacteria, Gammaproteobacteria, Alteromonadales  , Marinobacteraceae , Marinobacter        , NA</td></tr>\n",
       "\t<tr><th scope=row>ASV39</th><td> 6719.545</td><td>Skin</td><td>Bacteria, Bacteroidetes , Rhodothermia       , Balneolales      , Balneolaceae      , Aliifodinibius      , NA</td></tr>\n",
       "</tbody>\n",
       "</table>\n"
      ],
      "text/latex": [
       "A data.frame: 3 × 3\n",
       "\\begin{tabular}{r|lll}\n",
       "  & btSkin & Tissue & taxa\\\\\n",
       "  & <dbl> & <chr> & <txnmyTbl{[},7{]}>\\\\\n",
       "\\hline\n",
       "\tASV3 & 18025.328 & Skin & Bacteria, Proteobacteria, Gammaproteobacteria, Enterobacteriales, Enterobacteriaceae, Escherichia/Shigella, NA\\\\\n",
       "\tASV52 &  7407.905 & Skin & Bacteria, Proteobacteria, Gammaproteobacteria, Alteromonadales  , Marinobacteraceae , Marinobacter        , NA\\\\\n",
       "\tASV39 &  6719.545 & Skin & Bacteria, Bacteroidetes , Rhodothermia       , Balneolales      , Balneolaceae      , Aliifodinibius      , NA\\\\\n",
       "\\end{tabular}\n"
      ],
      "text/markdown": [
       "\n",
       "A data.frame: 3 × 3\n",
       "\n",
       "| <!--/--> | btSkin &lt;dbl&gt; | Tissue &lt;chr&gt; | taxa &lt;txnmyTbl[,7]&gt; |\n",
       "|---|---|---|---|\n",
       "| ASV3 | 18025.328 | Skin | Bacteria, Proteobacteria, Gammaproteobacteria, Enterobacteriales, Enterobacteriaceae, Escherichia/Shigella, NA |\n",
       "| ASV52 |  7407.905 | Skin | Bacteria, Proteobacteria, Gammaproteobacteria, Alteromonadales  , Marinobacteraceae , Marinobacter        , NA |\n",
       "| ASV39 |  6719.545 | Skin | Bacteria, Bacteroidetes , Rhodothermia       , Balneolales      , Balneolaceae      , Aliifodinibius      , NA |\n",
       "\n"
      ],
      "text/plain": [
       "      btSkin    Tissue\n",
       "ASV3  18025.328 Skin  \n",
       "ASV52  7407.905 Skin  \n",
       "ASV39  6719.545 Skin  \n",
       "      taxa                                                                                                          \n",
       "ASV3  Bacteria, Proteobacteria, Gammaproteobacteria, Enterobacteriales, Enterobacteriaceae, Escherichia/Shigella, NA\n",
       "ASV52 Bacteria, Proteobacteria, Gammaproteobacteria, Alteromonadales  , Marinobacteraceae , Marinobacter        , NA\n",
       "ASV39 Bacteria, Bacteroidetes , Rhodothermia       , Balneolales      , Balneolaceae      , Aliifodinibius      , NA"
      ]
     },
     "metadata": {},
     "output_type": "display_data"
    },
    {
     "data": {
      "text/html": [
       "<table class=\"dataframe\">\n",
       "<caption>A data.frame: 3 × 3</caption>\n",
       "<thead>\n",
       "\t<tr><th></th><th scope=col>btGill</th><th scope=col>Tissue</th><th scope=col>taxa</th></tr>\n",
       "\t<tr><th></th><th scope=col>&lt;dbl&gt;</th><th scope=col>&lt;chr&gt;</th><th scope=col>&lt;txnmyTbl[,7]&gt;</th></tr>\n",
       "</thead>\n",
       "<tbody>\n",
       "\t<tr><th scope=row>ASV3</th><td>11570.589</td><td>Gill</td><td>Bacteria, Proteobacteria, Gammaproteobacteria, Enterobacteriales, Enterobacteriaceae, Escherichia/Shigella, NA</td></tr>\n",
       "\t<tr><th scope=row>ASV928</th><td> 4511.302</td><td>Gill</td><td>Bacteria, Planctomycetes, Phycisphaerae      , Phycisphaerales  , Phycisphaeraceae  , NA                  , NA</td></tr>\n",
       "\t<tr><th scope=row>ASV1330</th><td> 4240.312</td><td>Gill</td><td>Bacteria, Actinobacteria, Actinobacteria     , Micrococcales    , Brevibacteriaceae , Brevibacterium      , NA</td></tr>\n",
       "</tbody>\n",
       "</table>\n"
      ],
      "text/latex": [
       "A data.frame: 3 × 3\n",
       "\\begin{tabular}{r|lll}\n",
       "  & btGill & Tissue & taxa\\\\\n",
       "  & <dbl> & <chr> & <txnmyTbl{[},7{]}>\\\\\n",
       "\\hline\n",
       "\tASV3 & 11570.589 & Gill & Bacteria, Proteobacteria, Gammaproteobacteria, Enterobacteriales, Enterobacteriaceae, Escherichia/Shigella, NA\\\\\n",
       "\tASV928 &  4511.302 & Gill & Bacteria, Planctomycetes, Phycisphaerae      , Phycisphaerales  , Phycisphaeraceae  , NA                  , NA\\\\\n",
       "\tASV1330 &  4240.312 & Gill & Bacteria, Actinobacteria, Actinobacteria     , Micrococcales    , Brevibacteriaceae , Brevibacterium      , NA\\\\\n",
       "\\end{tabular}\n"
      ],
      "text/markdown": [
       "\n",
       "A data.frame: 3 × 3\n",
       "\n",
       "| <!--/--> | btGill &lt;dbl&gt; | Tissue &lt;chr&gt; | taxa &lt;txnmyTbl[,7]&gt; |\n",
       "|---|---|---|---|\n",
       "| ASV3 | 11570.589 | Gill | Bacteria, Proteobacteria, Gammaproteobacteria, Enterobacteriales, Enterobacteriaceae, Escherichia/Shigella, NA |\n",
       "| ASV928 |  4511.302 | Gill | Bacteria, Planctomycetes, Phycisphaerae      , Phycisphaerales  , Phycisphaeraceae  , NA                  , NA |\n",
       "| ASV1330 |  4240.312 | Gill | Bacteria, Actinobacteria, Actinobacteria     , Micrococcales    , Brevibacteriaceae , Brevibacterium      , NA |\n",
       "\n"
      ],
      "text/plain": [
       "        btGill    Tissue\n",
       "ASV3    11570.589 Gill  \n",
       "ASV928   4511.302 Gill  \n",
       "ASV1330  4240.312 Gill  \n",
       "        taxa                                                                                                          \n",
       "ASV3    Bacteria, Proteobacteria, Gammaproteobacteria, Enterobacteriales, Enterobacteriaceae, Escherichia/Shigella, NA\n",
       "ASV928  Bacteria, Planctomycetes, Phycisphaerae      , Phycisphaerales  , Phycisphaeraceae  , NA                  , NA\n",
       "ASV1330 Bacteria, Actinobacteria, Actinobacteria     , Micrococcales    , Brevibacteriaceae , Brevibacterium      , NA"
      ]
     },
     "metadata": {},
     "output_type": "display_data"
    },
    {
     "data": {
      "text/html": [
       "<table class=\"dataframe\">\n",
       "<caption>A data.frame: 3 × 3</caption>\n",
       "<thead>\n",
       "\t<tr><th></th><th scope=col>btGut</th><th scope=col>Tissue</th><th scope=col>taxa</th></tr>\n",
       "\t<tr><th></th><th scope=col>&lt;dbl&gt;</th><th scope=col>&lt;chr&gt;</th><th scope=col>&lt;txnmyTbl[,7]&gt;</th></tr>\n",
       "</thead>\n",
       "<tbody>\n",
       "\t<tr><th scope=row>ASV664</th><td>2929.600</td><td>Gut</td><td>Bacteria, Bacteroidetes , Bacteroidia        , Sphingobacteriales , Sphingobacteriaceae , Sphingobacterium, NA</td></tr>\n",
       "\t<tr><th scope=row>ASV105</th><td>2415.240</td><td>Gut</td><td>Bacteria, Proteobacteria, Alphaproteobacteria, Caulobacterales    , Caulobacteraceae    , Brevundimonas   , NA</td></tr>\n",
       "\t<tr><th scope=row>ASV231</th><td>2302.139</td><td>Gut</td><td>Bacteria, Actinobacteria, Actinobacteria     , Propionibacteriales, Propionibacteriaceae, Cutibacterium   , NA</td></tr>\n",
       "</tbody>\n",
       "</table>\n"
      ],
      "text/latex": [
       "A data.frame: 3 × 3\n",
       "\\begin{tabular}{r|lll}\n",
       "  & btGut & Tissue & taxa\\\\\n",
       "  & <dbl> & <chr> & <txnmyTbl{[},7{]}>\\\\\n",
       "\\hline\n",
       "\tASV664 & 2929.600 & Gut & Bacteria, Bacteroidetes , Bacteroidia        , Sphingobacteriales , Sphingobacteriaceae , Sphingobacterium, NA\\\\\n",
       "\tASV105 & 2415.240 & Gut & Bacteria, Proteobacteria, Alphaproteobacteria, Caulobacterales    , Caulobacteraceae    , Brevundimonas   , NA\\\\\n",
       "\tASV231 & 2302.139 & Gut & Bacteria, Actinobacteria, Actinobacteria     , Propionibacteriales, Propionibacteriaceae, Cutibacterium   , NA\\\\\n",
       "\\end{tabular}\n"
      ],
      "text/markdown": [
       "\n",
       "A data.frame: 3 × 3\n",
       "\n",
       "| <!--/--> | btGut &lt;dbl&gt; | Tissue &lt;chr&gt; | taxa &lt;txnmyTbl[,7]&gt; |\n",
       "|---|---|---|---|\n",
       "| ASV664 | 2929.600 | Gut | Bacteria, Bacteroidetes , Bacteroidia        , Sphingobacteriales , Sphingobacteriaceae , Sphingobacterium, NA |\n",
       "| ASV105 | 2415.240 | Gut | Bacteria, Proteobacteria, Alphaproteobacteria, Caulobacterales    , Caulobacteraceae    , Brevundimonas   , NA |\n",
       "| ASV231 | 2302.139 | Gut | Bacteria, Actinobacteria, Actinobacteria     , Propionibacteriales, Propionibacteriaceae, Cutibacterium   , NA |\n",
       "\n"
      ],
      "text/plain": [
       "       btGut    Tissue\n",
       "ASV664 2929.600 Gut   \n",
       "ASV105 2415.240 Gut   \n",
       "ASV231 2302.139 Gut   \n",
       "       taxa                                                                                                          \n",
       "ASV664 Bacteria, Bacteroidetes , Bacteroidia        , Sphingobacteriales , Sphingobacteriaceae , Sphingobacterium, NA\n",
       "ASV105 Bacteria, Proteobacteria, Alphaproteobacteria, Caulobacterales    , Caulobacteraceae    , Brevundimonas   , NA\n",
       "ASV231 Bacteria, Actinobacteria, Actinobacteria     , Propionibacteriales, Propionibacteriaceae, Cutibacterium   , NA"
      ]
     },
     "metadata": {},
     "output_type": "display_data"
    },
    {
     "data": {
      "text/html": [
       "<table class=\"dataframe\">\n",
       "<caption>A data.frame: 3 × 3</caption>\n",
       "<thead>\n",
       "\t<tr><th></th><th scope=col>scFish</th><th scope=col>Tissue</th><th scope=col>taxa</th></tr>\n",
       "\t<tr><th></th><th scope=col>&lt;dbl&gt;</th><th scope=col>&lt;chr&gt;</th><th scope=col>&lt;txnmyTbl[,7]&gt;</th></tr>\n",
       "</thead>\n",
       "<tbody>\n",
       "\t<tr><th scope=row>ASV23</th><td>363627.7</td><td>Fish</td><td>Bacteria, Actinobacteria, Acidimicrobiia, Microtrichales  , Microtrichaceae  , Candidatus_Microthrix, NA</td></tr>\n",
       "\t<tr><th scope=row>ASV15</th><td>313037.3</td><td>Fish</td><td>Bacteria, Bacteroidetes , Bacteroidia   , Flavobacteriales, Flavobacteriaceae, NA                   , NA</td></tr>\n",
       "\t<tr><th scope=row>ASV19</th><td>281831.0</td><td>Fish</td><td>Bacteria, Bacteroidetes , Bacteroidia   , Flavobacteriales, Flavobacteriaceae, Polaribacter         , NA</td></tr>\n",
       "</tbody>\n",
       "</table>\n"
      ],
      "text/latex": [
       "A data.frame: 3 × 3\n",
       "\\begin{tabular}{r|lll}\n",
       "  & scFish & Tissue & taxa\\\\\n",
       "  & <dbl> & <chr> & <txnmyTbl{[},7{]}>\\\\\n",
       "\\hline\n",
       "\tASV23 & 363627.7 & Fish & Bacteria, Actinobacteria, Acidimicrobiia, Microtrichales  , Microtrichaceae  , Candidatus\\_Microthrix, NA\\\\\n",
       "\tASV15 & 313037.3 & Fish & Bacteria, Bacteroidetes , Bacteroidia   , Flavobacteriales, Flavobacteriaceae, NA                   , NA\\\\\n",
       "\tASV19 & 281831.0 & Fish & Bacteria, Bacteroidetes , Bacteroidia   , Flavobacteriales, Flavobacteriaceae, Polaribacter         , NA\\\\\n",
       "\\end{tabular}\n"
      ],
      "text/markdown": [
       "\n",
       "A data.frame: 3 × 3\n",
       "\n",
       "| <!--/--> | scFish &lt;dbl&gt; | Tissue &lt;chr&gt; | taxa &lt;txnmyTbl[,7]&gt; |\n",
       "|---|---|---|---|\n",
       "| ASV23 | 363627.7 | Fish | Bacteria, Actinobacteria, Acidimicrobiia, Microtrichales  , Microtrichaceae  , Candidatus_Microthrix, NA |\n",
       "| ASV15 | 313037.3 | Fish | Bacteria, Bacteroidetes , Bacteroidia   , Flavobacteriales, Flavobacteriaceae, NA                   , NA |\n",
       "| ASV19 | 281831.0 | Fish | Bacteria, Bacteroidetes , Bacteroidia   , Flavobacteriales, Flavobacteriaceae, Polaribacter         , NA |\n",
       "\n"
      ],
      "text/plain": [
       "      scFish   Tissue\n",
       "ASV23 363627.7 Fish  \n",
       "ASV15 313037.3 Fish  \n",
       "ASV19 281831.0 Fish  \n",
       "      taxa                                                                                                    \n",
       "ASV23 Bacteria, Actinobacteria, Acidimicrobiia, Microtrichales  , Microtrichaceae  , Candidatus_Microthrix, NA\n",
       "ASV15 Bacteria, Bacteroidetes , Bacteroidia   , Flavobacteriales, Flavobacteriaceae, NA                   , NA\n",
       "ASV19 Bacteria, Bacteroidetes , Bacteroidia   , Flavobacteriales, Flavobacteriaceae, Polaribacter         , NA"
      ]
     },
     "metadata": {},
     "output_type": "display_data"
    }
   ],
   "source": [
    "skinBT <- data.frame(slice_max(as.data.frame(btSkin), btSkin, n=3), Tissue = 'Skin')\n",
    "skinBT$taxa <- tax_table(psSkin)[row.names(skinBT)]\n",
    "skinBT\n",
    "\n",
    "gillBT <- data.frame(slice_max(as.data.frame(btGill), btGill, n=3), Tissue = 'Gill')\n",
    "gillBT$taxa <- tax_table(psGill)[row.names(gillBT)]\n",
    "gillBT \n",
    "\n",
    "gutBT <- data.frame(slice_max(as.data.frame(btGut), btGut, n=3), Tissue = 'Gut')\n",
    "gutBT$taxa <- tax_table(psGut)[row.names(gutBT)]\n",
    "gutBT\n",
    "\n",
    "fishSC <- data.frame(slice_max(as.data.frame(scFish), scFish, n=3), Tissue = 'Fish')\n",
    "fishSC$taxa <- tax_table(psFish1f)[row.names(fishSC)]\n",
    "fishSC"
   ]
  },
  {
   "cell_type": "markdown",
   "metadata": {},
   "source": [
    "### Use function from \"https://github.com/zdk123/SpiecEasi/issues/54\" to color edges"
   ]
  },
  {
   "cell_type": "markdown",
   "metadata": {},
   "source": [
    "### Skin Network Plot"
   ]
  },
  {
   "cell_type": "code",
   "execution_count": null,
   "metadata": {},
   "outputs": [],
   "source": [
    "col_vector74 = c(\"#7FC97F\",\"#BEAED4\",\"#FDC086\",\"#FFFF99\",\"#386CB0\",\"#F0027F\",\"#BF5B17\",\"#666666\",\"#1B9E77\",\"#D95F02\",\"#7570B3\",\"#E7298A\",\"#66A61E\",\"#E6AB02\",\"#A6761D\",\"#666666\",\"#A6CEE3\",\"#1F78B4\",\"#B2DF8A\",\"#33A02C\",\"#FB9A99\",\"#E31A1C\",\"#FDBF6F\",\"#FF7F00\",\"#CAB2D6\",\"#6A3D9A\",\"#FFFF99\",\"#B15928\",\"#FBB4AE\",\"#B3CDE3\",\"#CCEBC5\",\"#DECBE4\",\"#FED9A6\",\"#FFFFCC\",\"#E5D8BD\",\"#FDDAEC\",\"#F2F2F2\",\"#B3E2CD\",\"#FDCDAC\",\"#CBD5E8\",\"#F4CAE4\",\"#E6F5C9\",\"#FFF2AE\",\"#F1E2CC\",\"#CCCCCC\",\"#E41A1C\",\"#377EB8\",\"#4DAF4A\",\"#984EA3\",\"#FF7F00\",\"#FFFF33\",\"#A65628\",\"#F781BF\",\"#999999\",\"#66C2A5\",\"#FC8D62\",\"#8DA0CB\",\"#E78AC3\",\"#A6D854\",\"#FFD92F\",\"#E5C494\",\"#B3B3B3\",\"#8DD3C7\",\"#FFFFB3\",\"#BEBADA\",\"#FB8072\",\"#80B1D3\",\"#FDB462\",\"#B3DE69\",\"#FCCDE5\",\"#D9D9D9\",\"#BC80BD\",\"#CCEBC5\",\"#FFED6F\")\n",
    "getrank=\"Phylum\" ## Note that depending on your object this could be \"Class\" or \"Genus\"...\n",
    "\n",
    "# Add edged colors based on nodes connected\n",
    "#The inverse covariance matrix is obtained via a form of regression\n",
    "betaMat=as.matrix(symBeta(getOptBeta(se.mb.Skin)))\n",
    "\n",
    "#otu.ids=colnames(mb$data)\n",
    "otu.ids <- colnames(se.mb.Skin[[1]]$data)\n",
    "\n",
    "edges=E(ig.mbSkin)\n",
    "edge.colors=c()\n",
    "edge.weight=c()\n",
    "for(e.index in 1:length(edges)){\n",
    "  adj.nodes=ends(ig.mbSkin,edges[e.index])\n",
    "  xindex=which(otu.ids==adj.nodes[1])\n",
    "  yindex=which(otu.ids==adj.nodes[2])\n",
    "  beta=betaMat[xindex,yindex]\n",
    "  if(beta>0){\n",
    "    edge.colors=append(edge.colors,\"green3\")\n",
    "    #edge.weight= format(beta*100,digits=3)\n",
    "    weight= format(beta*100,digits=3)\n",
    "    edge.weight=append(edge.weight,weight)\n",
    "    \n",
    "    cat(\"Beta pos:\",beta,\"\\n\")\n",
    "    \n",
    "  }else if(beta<0){\n",
    "    edge.colors=append(edge.colors,\"red\")\n",
    "    weight= format(beta*100,digits=3)\n",
    "    edge.weight=append(edge.weight,weight)\n",
    "    \n",
    "    cat(\"Beta neg:\",beta,\"\\n\")\n",
    "    \n",
    "    \n",
    "  }\n",
    "}\n",
    "\n",
    "E(ig.mbSkin)$color=edge.colors\n",
    "E(ig.mbSkin)$weight=edge.weight\n",
    "\n",
    "#How many nodes connected at specific rank\n",
    "nb_nodes <- vcount(ig.mbSkin)\n",
    "tax_table(psSkinF) <- tax_table(psSkinF)[,getrank]\n",
    "otu_ids <- V(ig.mbSkin)$name\n",
    "idx <- which(row.names(tax_table(psSkinF)) %in% otu_ids)\n",
    "taxa <- as.character(tax_table(psSkinF)[,getrank])[idx]\n",
    "\n",
    "ig2 <- asNetwork(ig.mbSkin)\n",
    "#network.vertex.names(ig2) <- taxa\n",
    "\n",
    "net <- ig2\n",
    "net %v% getrank = as.character(taxa)\n",
    "y= col_vector74[1:nb_nodes]\n",
    "names(y) <- levels(as.factor(taxa))\n",
    "\n",
    "set.seed(123)\n",
    "pSkin <-  ggnet2(net,\n",
    "             color = getrank,\n",
    "             palette = y,\n",
    "             #alpha = 0.85, \n",
    "             #edge.label = \"weight\", \n",
    "             size = btSkin,\n",
    "             size.min = 2175,\n",
    "             edge.color=\"color\",\n",
    "             edge.size =0.7,\n",
    "             #edge.alpha = 0.75,\n",
    "             label = TRUE, \n",
    "             label.size = 1.5)\n",
    "pSkin <- pSkin + guides(color = guide_legend(override.aes = list(size=5),\n",
    "                                             title = \"Phylum\"),\n",
    "                        size = FALSE) + PhylumPalette +  theme(legend.title = element_text(size=10),\n",
    "                                                                                            legend.text = element_text(size=10))"
   ]
  },
  {
   "cell_type": "markdown",
   "metadata": {},
   "source": [
    "### Gill network plot"
   ]
  },
  {
   "cell_type": "code",
   "execution_count": null,
   "metadata": {},
   "outputs": [],
   "source": [
    "#col_vector74 = c(\"#7FC97F\",\"#BEAED4\",\"#FDC086\",\"#FFFF99\",\"#386CB0\",\"#F0027F\",\"#BF5B17\",\"#666666\",\"#1B9E77\",\"#D95F02\",\"#7570B3\",\"#E7298A\",\"#66A61E\",\"#E6AB02\",\"#A6761D\",\"#666666\",\"#A6CEE3\",\"#1F78B4\",\"#B2DF8A\",\"#33A02C\",\"#FB9A99\",\"#E31A1C\",\"#FDBF6F\",\"#FF7F00\",\"#CAB2D6\",\"#6A3D9A\",\"#FFFF99\",\"#B15928\",\"#FBB4AE\",\"#B3CDE3\",\"#CCEBC5\",\"#DECBE4\",\"#FED9A6\",\"#FFFFCC\",\"#E5D8BD\",\"#FDDAEC\",\"#F2F2F2\",\"#B3E2CD\",\"#FDCDAC\",\"#CBD5E8\",\"#F4CAE4\",\"#E6F5C9\",\"#FFF2AE\",\"#F1E2CC\",\"#CCCCCC\",\"#E41A1C\",\"#377EB8\",\"#4DAF4A\",\"#984EA3\",\"#FF7F00\",\"#FFFF33\",\"#A65628\",\"#F781BF\",\"#999999\",\"#66C2A5\",\"#FC8D62\",\"#8DA0CB\",\"#E78AC3\",\"#A6D854\",\"#FFD92F\",\"#E5C494\",\"#B3B3B3\",\"#8DD3C7\",\"#FFFFB3\",\"#BEBADA\",\"#FB8072\",\"#80B1D3\",\"#FDB462\",\"#B3DE69\",\"#FCCDE5\",\"#D9D9D9\",\"#BC80BD\",\"#CCEBC5\",\"#FFED6F\")\n",
    "getrank=\"Phylum\" ## Note that depending on your object this could be \"Class\" or \"Genus\"...\n",
    "\n",
    "# Add edged colors based on nodes connected\n",
    "#The inverse covariance matrix is obtained via a form of regression\n",
    "betaMat=as.matrix(symBeta(getOptBeta(se.mb.Gill)))\n",
    "\n",
    "#otu.ids=colnames(mb$data)\n",
    "otu.ids <- colnames(se.mb.Gill[[1]]$data)\n",
    "\n",
    "edges=E(ig.mbGill)\n",
    "edge.colors=c()\n",
    "edge.weight=c()\n",
    "for(e.index in 1:length(edges)){\n",
    "  adj.nodes=ends(ig.mbGill,edges[e.index])\n",
    "  xindex=which(otu.ids==adj.nodes[1])\n",
    "  yindex=which(otu.ids==adj.nodes[2])\n",
    "  beta=betaMat[xindex,yindex]\n",
    "  if(beta>0){\n",
    "    edge.colors=append(edge.colors,\"green3\")\n",
    "    #edge.weight= format(beta*100,digits=3)\n",
    "    weight= format(beta*100,digits=3)\n",
    "    edge.weight=append(edge.weight,weight)\n",
    "    \n",
    "    cat(\"Beta pos:\",beta,\"\\n\")\n",
    "    \n",
    "  }else if(beta<0){\n",
    "    edge.colors=append(edge.colors,\"red\")\n",
    "    weight= format(beta*100,digits=3)\n",
    "    edge.weight=append(edge.weight,weight)\n",
    "    \n",
    "    cat(\"Beta neg:\",beta,\"\\n\")\n",
    "    \n",
    "    \n",
    "  }\n",
    "}\n",
    "\n",
    "E(ig.mbGill)$color=edge.colors\n",
    "E(ig.mbGill)$weight=edge.weight\n",
    "\n",
    "#How many nodes connected at specific rank\n",
    "nb_nodes <- vcount(ig.mbGill)\n",
    "tax_table(psGillF) <- tax_table(psGillF)[,getrank]\n",
    "otu_ids <- V(ig.mbGill)$name\n",
    "idx <- which(row.names(tax_table(psGillF)) %in% otu_ids)\n",
    "taxa <- as.character(tax_table(psGillF)[,getrank])[idx]\n",
    "\n",
    "ig2 <- asNetwork(ig.mbGill)\n",
    "#network.vertex.names(ig2) <- taxa\n",
    "\n",
    "net <- ig2\n",
    "net %v% getrank = as.character(taxa)\n",
    "y= col_vector74[1:nb_nodes]\n",
    "names(y) <- levels(as.factor(taxa))\n",
    "\n",
    "set.seed(123)\n",
    "pGill <-  ggnet2(net,\n",
    "             color = getrank,\n",
    "             palette = y,\n",
    "             #alpha = 0.85, \n",
    "             #edge.label = \"weight\", \n",
    "             size = btGill,\n",
    "             size.min = 2505,\n",
    "             edge.color=\"color\",\n",
    "             edge.size=.7,    \n",
    "             #edge.alpha = 0.75,\n",
    "             label = TRUE, \n",
    "             label.size = 1.5)\n",
    "pGill <- pGill + guides(color = guide_legend(override.aes = list(size=5),\n",
    "                                             title = \"Phylum\"),\n",
    "                        size = FALSE) +  theme(legend.title = element_text(size=10),\n",
    "                                               legend.text = element_text(size=10)) + PhylumPalette"
   ]
  },
  {
   "cell_type": "markdown",
   "metadata": {},
   "source": [
    "### Gut network plot"
   ]
  },
  {
   "cell_type": "code",
   "execution_count": null,
   "metadata": {},
   "outputs": [],
   "source": [
    "#col_vector74 = c(\"#7FC97F\",\"#BEAED4\",\"#FDC086\",\"#FFFF99\",\"#386CB0\",\"#F0027F\",\"#BF5B17\",\"#666666\",\"#1B9E77\",\"#D95F02\",\"#7570B3\",\"#E7298A\",\"#66A61E\",\"#E6AB02\",\"#A6761D\",\"#666666\",\"#A6CEE3\",\"#1F78B4\",\"#B2DF8A\",\"#33A02C\",\"#FB9A99\",\"#E31A1C\",\"#FDBF6F\",\"#FF7F00\",\"#CAB2D6\",\"#6A3D9A\",\"#FFFF99\",\"#B15928\",\"#FBB4AE\",\"#B3CDE3\",\"#CCEBC5\",\"#DECBE4\",\"#FED9A6\",\"#FFFFCC\",\"#E5D8BD\",\"#FDDAEC\",\"#F2F2F2\",\"#B3E2CD\",\"#FDCDAC\",\"#CBD5E8\",\"#F4CAE4\",\"#E6F5C9\",\"#FFF2AE\",\"#F1E2CC\",\"#CCCCCC\",\"#E41A1C\",\"#377EB8\",\"#4DAF4A\",\"#984EA3\",\"#FF7F00\",\"#FFFF33\",\"#A65628\",\"#F781BF\",\"#999999\",\"#66C2A5\",\"#FC8D62\",\"#8DA0CB\",\"#E78AC3\",\"#A6D854\",\"#FFD92F\",\"#E5C494\",\"#B3B3B3\",\"#8DD3C7\",\"#FFFFB3\",\"#BEBADA\",\"#FB8072\",\"#80B1D3\",\"#FDB462\",\"#B3DE69\",\"#FCCDE5\",\"#D9D9D9\",\"#BC80BD\",\"#CCEBC5\",\"#FFED6F\")\n",
    "getrank=\"Phylum\" ## Note that depending on your object this could be \"Class\" or \"Genus\"...\n",
    "\n",
    "# Add edged colors based on nodes connected\n",
    "#The inverse covariance matrix is obtained via a form of regression\n",
    "betaMat=as.matrix(symBeta(getOptBeta(se.mb.Gut)))\n",
    "\n",
    "#otu.ids=colnames(mb$data)\n",
    "otu.ids <- colnames(se.mb.Gut[[1]]$data)\n",
    "\n",
    "edges=E(ig.mbGut)\n",
    "edge.colors=c()\n",
    "edge.weight=c()\n",
    "for(e.index in 1:length(edges)){\n",
    "  adj.nodes=ends(ig.mbGut,edges[e.index])\n",
    "  xindex=which(otu.ids==adj.nodes[1])\n",
    "  yindex=which(otu.ids==adj.nodes[2])\n",
    "  beta=betaMat[xindex,yindex]\n",
    "  if(beta>0){\n",
    "    edge.colors=append(edge.colors,\"green3\")\n",
    "    #edge.weight= format(beta*100,digits=3)\n",
    "    weight= format(beta*100,digits=3)\n",
    "    edge.weight=append(edge.weight,weight)\n",
    "    \n",
    "    cat(\"Beta pos:\",beta,\"\\n\")\n",
    "    \n",
    "  }else if(beta<0){\n",
    "    edge.colors=append(edge.colors,\"red\")\n",
    "    weight= format(beta*100,digits=3)\n",
    "    edge.weight=append(edge.weight,weight)\n",
    "    \n",
    "    cat(\"Beta neg:\",beta,\"\\n\")\n",
    "    \n",
    "    \n",
    "  }\n",
    "}\n",
    "\n",
    "E(ig.mbGut)$color=edge.colors\n",
    "E(ig.mbGut)$weight=edge.weight\n",
    "\n",
    "#How many nodes connected at specific rank\n",
    "nb_nodes <- vcount(ig.mbGut)\n",
    "tax_table(psGutF) <- tax_table(psGutF)[,getrank]\n",
    "otu_ids <- V(ig.mbGut)$name\n",
    "idx <- which(row.names(tax_table(psGutF)) %in% otu_ids)\n",
    "taxa <- as.character(tax_table(psGutF)[,getrank])[idx]\n",
    "\n",
    "ig2 <- asNetwork(ig.mbGut)\n",
    "#network.vertex.names(ig2) <- taxa\n",
    "\n",
    "net <- ig2\n",
    "net %v% getrank = as.character(taxa)\n",
    "y= col_vector74[1:nb_nodes]\n",
    "names(y) <- levels(as.factor(taxa))\n",
    "\n",
    "set.seed(123)\n",
    "pGut <-  ggnet2(net,\n",
    "             color = getrank,\n",
    "             palette = y,\n",
    "             #alpha = 0.85, \n",
    "             #edge.label = \"weight\", \n",
    "             size = btGut,\n",
    "             size.min = 1010,\n",
    "             edge.color=\"color\",\n",
    "             edge.size = 0.7,\n",
    "             #edge.alpha = 0.75,\n",
    "             label = TRUE, \n",
    "             label.size = 1.5)\n",
    "pGut <- pGut + guides(color = guide_legend(override.aes = list(size=5),\n",
    "                                             title = \"Phylum\"),\n",
    "                        size = FALSE) + PhylumPalette +  theme(legend.title = element_text(size=10),\n",
    "                                                                                            legend.text = element_text(size=10))                                                                                   "
   ]
  },
  {
   "cell_type": "markdown",
   "metadata": {},
   "source": [
    "### Fish network plot"
   ]
  },
  {
   "cell_type": "code",
   "execution_count": null,
   "metadata": {},
   "outputs": [],
   "source": [
    "#col_vector74 = c(\"#7FC97F\",\"#BEAED4\",\"#FDC086\",\"#FFFF99\",\"#386CB0\",\"#F0027F\",\"#BF5B17\",\"#666666\",\"#1B9E77\",\"#D95F02\",\"#7570B3\",\"#E7298A\",\"#66A61E\",\"#E6AB02\",\"#A6761D\",\"#666666\",\"#A6CEE3\",\"#1F78B4\",\"#B2DF8A\",\"#33A02C\",\"#FB9A99\",\"#E31A1C\",\"#FDBF6F\",\"#FF7F00\",\"#CAB2D6\",\"#6A3D9A\",\"#FFFF99\",\"#B15928\",\"#FBB4AE\",\"#B3CDE3\",\"#CCEBC5\",\"#DECBE4\",\"#FED9A6\",\"#FFFFCC\",\"#E5D8BD\",\"#FDDAEC\",\"#F2F2F2\",\"#B3E2CD\",\"#FDCDAC\",\"#CBD5E8\",\"#F4CAE4\",\"#E6F5C9\",\"#FFF2AE\",\"#F1E2CC\",\"#CCCCCC\",\"#E41A1C\",\"#377EB8\",\"#4DAF4A\",\"#984EA3\",\"#FF7F00\",\"#FFFF33\",\"#A65628\",\"#F781BF\",\"#999999\",\"#66C2A5\",\"#FC8D62\",\"#8DA0CB\",\"#E78AC3\",\"#A6D854\",\"#FFD92F\",\"#E5C494\",\"#B3B3B3\",\"#8DD3C7\",\"#FFFFB3\",\"#BEBADA\",\"#FB8072\",\"#80B1D3\",\"#FDB462\",\"#B3DE69\",\"#FCCDE5\",\"#D9D9D9\",\"#BC80BD\",\"#CCEBC5\",\"#FFED6F\")\n",
    "getrank=\"Phylum\" ## Note that depending on your object this could be \"Class\" or \"Genus\"...\n",
    "\n",
    "# Add edged colors based on nodes connected\n",
    "#The inverse covariance matrix is obtained via a form of regression\n",
    "betaMat=as.matrix(symBeta(getOptBeta(se.mb.Fish)))\n",
    "\n",
    "#otu.ids=colnames(mb$data)\n",
    "otu.ids <- colnames(se.mb.Fish[[1]]$data)\n",
    "\n",
    "edges=E(ig.mbFish)\n",
    "edge.colors=c()\n",
    "edge.weight=c()\n",
    "for(e.index in 1:length(edges)){\n",
    "  adj.nodes=ends(ig.mbFish,edges[e.index])\n",
    "  xindex=which(otu.ids==adj.nodes[1])\n",
    "  yindex=which(otu.ids==adj.nodes[2])\n",
    "  beta=betaMat[xindex,yindex]\n",
    "  if(beta>0){\n",
    "    edge.colors=append(edge.colors,\"green3\")\n",
    "    #edge.weight= format(beta*100,digits=3)\n",
    "    weight= format(beta*100,digits=3)\n",
    "    edge.weight=append(edge.weight,weight)\n",
    "    \n",
    "    cat(\"Beta pos:\",beta,\"\\n\")\n",
    "    \n",
    "  }else if(beta<0){\n",
    "    edge.colors=append(edge.colors,\"red\")\n",
    "    weight= format(beta*100,digits=3)\n",
    "    edge.weight=append(edge.weight,weight)\n",
    "    \n",
    "    cat(\"Beta neg:\",beta,\"\\n\")\n",
    "    \n",
    "    \n",
    "  }\n",
    "}\n",
    "\n",
    "E(ig.mbFish)$color=edge.colors\n",
    "E(ig.mbFish)$weight=edge.weight\n",
    "\n",
    "#How many nodes connected at specific rank\n",
    "nb_nodes <- vcount(ig.mbFish)\n",
    "tax_table(psFishF) <- tax_table(psFishF)[,getrank]\n",
    "otu_ids <- V(ig.mbFish)$name\n",
    "idx <- which(row.names(tax_table(psFishF)) %in% otu_ids)\n",
    "taxa <- as.character(tax_table(psFishF)[,getrank])[idx]\n",
    "\n",
    "ig2 <- asNetwork(ig.mbFish)\n",
    "#network.vertex.names(ig2) <- taxa\n",
    "\n",
    "net <- ig2\n",
    "net %v% getrank = as.character(taxa)\n",
    "y= col_vector74[1:nb_nodes]\n",
    "names(y) <- levels(as.factor(taxa))\n",
    "\n",
    "set.seed(123)\n",
    "pFish <-  ggnet2(net,\n",
    "             color = getrank,\n",
    "             palette = y,\n",
    "             #alpha = 0.85, \n",
    "             #edge.label = \"weight\", \n",
    "             size = scFish,\n",
    "             size.min = 55000,\n",
    "             edge.color=\"color\",\n",
    "             edge.size = 0.7,\n",
    "             #edge.alpha = 0.75,\n",
    "             label = TRUE, \n",
    "             label.size = 1.5)\n",
    "pFish <- pFish + guides(color = guide_legend(override.aes = list(size=5),\n",
    "                                             title = \"Phylum\"),\n",
    "                        size = FALSE)  +  theme(legend.title = element_text(size=10),\n",
    "                                                legend.text = element_text(size=10)) + PhylumPalette"
   ]
  },
  {
   "cell_type": "markdown",
   "metadata": {},
   "source": [
    "#### Multiplot - each plot waws restricted to top 50 nodes"
   ]
  },
  {
   "cell_type": "code",
   "execution_count": 91,
   "metadata": {},
   "outputs": [],
   "source": [
    "tisMulti <- ggarrange(pGut, pGill, pSkin, pFish,  nrow = 2, ncol=2, labels = c('A', 'B', 'C','D'), common.legend = T, legend='right')\n",
    "#ggarrange(tisMulti, fishNet, nrow = 2, common.legend = T, legend='bottom', labels=c('', 'D')) \n",
    "ggsave(device='png', 'Figures/Manuscript/btw_Top50_MultiNetworks.png', width = 12, height = 8, bg='white')"
   ]
  },
  {
   "cell_type": "code",
   "execution_count": 94,
   "metadata": {},
   "outputs": [
    {
     "name": "stderr",
     "output_type": "stream",
     "text": [
      "Saving 7 x 7 in image\n",
      "\n"
     ]
    }
   ],
   "source": [
    "tisMulti <- ggarrange(pGut, pGill, pSkin, ncol=1, labels = c('A', 'B', 'C'), common.legend = T, legend='right')\n",
    "#ggarrange(tisMulti, fishNet, nrow = 2, common.legend = T, legend='bottom', labels=c('', 'D')) \n",
    "ggsave(device='png', 'Figures/Manuscript/btw_Top50_GutGillSkin_Networks.png', bg='white')"
   ]
  },
  {
   "cell_type": "markdown",
   "metadata": {},
   "source": [
    "#### Extract number of edges (positive and negative)"
   ]
  },
  {
   "cell_type": "code",
   "execution_count": 35,
   "metadata": {},
   "outputs": [
    {
     "data": {
      "text/html": [
       "5749"
      ],
      "text/latex": [
       "5749"
      ],
      "text/markdown": [
       "5749"
      ],
      "text/plain": [
       "[1] 5749"
      ]
     },
     "metadata": {},
     "output_type": "display_data"
    },
    {
     "data": {
      "text/html": [
       "212"
      ],
      "text/latex": [
       "212"
      ],
      "text/markdown": [
       "212"
      ],
      "text/plain": [
       "[1] 212"
      ]
     },
     "metadata": {},
     "output_type": "display_data"
    },
    {
     "data": {
      "text/html": [
       "5961"
      ],
      "text/latex": [
       "5961"
      ],
      "text/markdown": [
       "5961"
      ],
      "text/plain": [
       "[1] 5961"
      ]
     },
     "metadata": {},
     "output_type": "display_data"
    }
   ],
   "source": [
    "betaMatFish=as.matrix(symBeta(getOptBeta(se.mb.Fish)))\n",
    "positiveFish=length(betaMatFish[betaMatFish>0])/2\n",
    "negativeFish=length(betaMatFish[betaMatFish<0])/2\n",
    "totalFish=length(betaMatFish[betaMatFish!=0])/2\n",
    "\n",
    "positiveFish\n",
    "negativeFish\n",
    "totalFish"
   ]
  },
  {
   "cell_type": "code",
   "execution_count": 36,
   "metadata": {},
   "outputs": [
    {
     "data": {
      "text/html": [
       "600"
      ],
      "text/latex": [
       "600"
      ],
      "text/markdown": [
       "600"
      ],
      "text/plain": [
       "[1] 600"
      ]
     },
     "metadata": {},
     "output_type": "display_data"
    },
    {
     "data": {
      "text/html": [
       "14"
      ],
      "text/latex": [
       "14"
      ],
      "text/markdown": [
       "14"
      ],
      "text/plain": [
       "[1] 14"
      ]
     },
     "metadata": {},
     "output_type": "display_data"
    },
    {
     "data": {
      "text/html": [
       "614"
      ],
      "text/latex": [
       "614"
      ],
      "text/markdown": [
       "614"
      ],
      "text/plain": [
       "[1] 614"
      ]
     },
     "metadata": {},
     "output_type": "display_data"
    }
   ],
   "source": [
    "betaMatGut=as.matrix(symBeta(getOptBeta(se.mb.Gut)))\n",
    "positiveGut=length(betaMatGut[betaMatGut>0])/2\n",
    "negativeGut=length(betaMatGut[betaMatGut<0])/2\n",
    "totalGut=length(betaMatGut[betaMatGut!=0])/2\n",
    "\n",
    "positiveGut\n",
    "negativeGut\n",
    "totalGut"
   ]
  },
  {
   "cell_type": "code",
   "execution_count": 37,
   "metadata": {},
   "outputs": [
    {
     "data": {
      "text/html": [
       "8646"
      ],
      "text/latex": [
       "8646"
      ],
      "text/markdown": [
       "8646"
      ],
      "text/plain": [
       "[1] 8646"
      ]
     },
     "metadata": {},
     "output_type": "display_data"
    },
    {
     "data": {
      "text/html": [
       "1327"
      ],
      "text/latex": [
       "1327"
      ],
      "text/markdown": [
       "1327"
      ],
      "text/plain": [
       "[1] 1327"
      ]
     },
     "metadata": {},
     "output_type": "display_data"
    },
    {
     "data": {
      "text/html": [
       "9973"
      ],
      "text/latex": [
       "9973"
      ],
      "text/markdown": [
       "9973"
      ],
      "text/plain": [
       "[1] 9973"
      ]
     },
     "metadata": {},
     "output_type": "display_data"
    }
   ],
   "source": [
    "betaMatGill=as.matrix(symBeta(getOptBeta(se.mb.Gill)))\n",
    "positiveGill=length(betaMatGill[betaMatGill>0])/2\n",
    "negativeGill=length(betaMatGill[betaMatGill<0])/2\n",
    "totalGill=length(betaMatGill[betaMatGill!=0])/2\n",
    "\n",
    "positiveGill\n",
    "negativeGill\n",
    "totalGill"
   ]
  },
  {
   "cell_type": "code",
   "execution_count": 38,
   "metadata": {},
   "outputs": [
    {
     "data": {
      "text/html": [
       "6941"
      ],
      "text/latex": [
       "6941"
      ],
      "text/markdown": [
       "6941"
      ],
      "text/plain": [
       "[1] 6941"
      ]
     },
     "metadata": {},
     "output_type": "display_data"
    },
    {
     "data": {
      "text/html": [
       "963"
      ],
      "text/latex": [
       "963"
      ],
      "text/markdown": [
       "963"
      ],
      "text/plain": [
       "[1] 963"
      ]
     },
     "metadata": {},
     "output_type": "display_data"
    },
    {
     "data": {
      "text/html": [
       "7904"
      ],
      "text/latex": [
       "7904"
      ],
      "text/markdown": [
       "7904"
      ],
      "text/plain": [
       "[1] 7904"
      ]
     },
     "metadata": {},
     "output_type": "display_data"
    }
   ],
   "source": [
    "betaMatSkin=as.matrix(symBeta(getOptBeta(se.mb.Skin)))\n",
    "positiveSkin=length(betaMatSkin[betaMatSkin>0])/2\n",
    "negativeSkin=length(betaMatSkin[betaMatSkin<0])/2\n",
    "totalSkin=length(betaMatSkin[betaMatSkin!=0])/2\n",
    "\n",
    "positiveSkin\n",
    "negativeSkin\n",
    "totalSkin"
   ]
  }
 ],
 "metadata": {
  "kernelspec": {
   "display_name": "R",
   "language": "R",
   "name": "ir"
  },
  "language_info": {
   "codemirror_mode": "r",
   "file_extension": ".r",
   "mimetype": "text/x-r-source",
   "name": "R",
   "pygments_lexer": "r",
   "version": "4.0.1"
  }
 },
 "nbformat": 4,
 "nbformat_minor": 4
}
